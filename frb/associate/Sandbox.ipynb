{
 "cells": [
  {
   "cell_type": "markdown",
   "metadata": {},
   "source": [
    "# Sandbox (development)"
   ]
  },
  {
   "cell_type": "code",
   "execution_count": 10,
   "metadata": {},
   "outputs": [],
   "source": [
    "# imports\n",
    "from matplotlib import pyplot as plt\n",
    "\n",
    "from astropy import units\n",
    "\n",
    "from frb.surveys import survey_utils\n",
    "from frb import frb"
   ]
  },
  {
   "cell_type": "markdown",
   "metadata": {},
   "source": [
    "# DES near 180924"
   ]
  },
  {
   "cell_type": "code",
   "execution_count": 3,
   "metadata": {},
   "outputs": [],
   "source": [
    "frb180924 = frb.FRB.by_name('FRB180924')"
   ]
  },
  {
   "cell_type": "code",
   "execution_count": 5,
   "metadata": {},
   "outputs": [],
   "source": [
    "search_r = 1 * units.deg"
   ]
  },
  {
   "cell_type": "code",
   "execution_count": 8,
   "metadata": {},
   "outputs": [
    {
     "name": "stdout",
     "output_type": "stream",
     "text": [
      "SELECT mag_auto_g, magerr_auto_g, mag_auto_r, magerr_auto_r, mag_auto_i, magerr_auto_i, mag_auto_z, magerr_auto_z, mag_auto_y, magerr_auto_y, coadd_object_id, ra, dec, tilename\n",
      "    FROM des_dr1.main\n",
      "    WHERE q3c_radial_query(ra,dec,326.105229,-40.900028,1.000000)\n",
      "    \n",
      "SELECT w1mpro, w1sigmpro, w2mpro, w2sigmpro, w3mpro, w3sigmpro, w4mpro, w4sigmpro, coadd_object_id, des_ra, des_dec, ra, dec\n",
      "    FROM des_dr1.des_allwise\n",
      "    WHERE q3c_radial_query(ra,dec,326.105229,-40.900028,1.000000)\n",
      "    \n"
     ]
    }
   ],
   "source": [
    "des_srvy = survey_utils.load_survey_by_name('DES', frb180924.coord, search_r)\n",
    "des_tbl = des_srvy.get_catalog(print_query=True)"
   ]
  },
  {
   "cell_type": "markdown",
   "metadata": {},
   "source": [
    "## Inspect"
   ]
  },
  {
   "cell_type": "code",
   "execution_count": 11,
   "metadata": {},
   "outputs": [
    {
     "data": {
      "text/html": [
       "<i>Table length=245505</i>\n",
       "<table id=\"table140117010456144\" class=\"table-striped table-bordered table-condensed\">\n",
       "<thead><tr><th>DES_g</th><th>DES_g_err</th><th>DES_r</th><th>DES_r_err</th><th>DES_i</th><th>DES_i_err</th><th>DES_z</th><th>DES_z_err</th><th>DES_Y</th><th>DES_Y_err</th><th>DES_ID</th><th>ra</th><th>dec</th><th>DES_tile</th><th>WISE_W1</th><th>WISE_W1_err</th><th>WISE_W2</th><th>WISE_W2_err</th><th>WISE_W3</th><th>WISE_W3_err</th><th>WISE_W4</th><th>WISE_W4_err</th></tr></thead>\n",
       "<thead><tr><th>float64</th><th>float64</th><th>float64</th><th>float64</th><th>float64</th><th>float64</th><th>float64</th><th>float64</th><th>float64</th><th>float64</th><th>int64</th><th>float64</th><th>float64</th><th>str12</th><th>float64</th><th>float64</th><th>float64</th><th>float64</th><th>float64</th><th>float64</th><th>float64</th><th>float64</th></tr></thead>\n",
       "<tr><td>22.4551</td><td>0.0337882</td><td>22.157</td><td>0.0371656</td><td>22.0062</td><td>0.0646035</td><td>21.3684</td><td>0.059213</td><td>22.0598</td><td>0.258294</td><td>212833823</td><td>324.8499</td><td>-41.2165</td><td>DES2137-4123</td><td>-999.0</td><td>-999.0</td><td>-999.0</td><td>-999.0</td><td>-999.0</td><td>-999.0</td><td>-999.0</td><td>-999.0</td></tr>\n",
       "<tr><td>23.194</td><td>0.0941275</td><td>21.9697</td><td>0.0437027</td><td>21.5887</td><td>0.0569069</td><td>21.1987</td><td>0.0581137</td><td>21.1634</td><td>0.150334</td><td>212835313</td><td>324.871578</td><td>-41.235802</td><td>DES2137-4123</td><td>-999.0</td><td>-999.0</td><td>-999.0</td><td>-999.0</td><td>-999.0</td><td>-999.0</td><td>-999.0</td><td>-999.0</td></tr>\n",
       "<tr><td>99.0</td><td>99.0</td><td>99.0</td><td>99.0</td><td>23.9364</td><td>0.253412</td><td>23.1386</td><td>0.178016</td><td>22.8145</td><td>0.353177</td><td>212835513</td><td>324.873778</td><td>-41.23811</td><td>DES2137-4123</td><td>-999.0</td><td>-999.0</td><td>-999.0</td><td>-999.0</td><td>-999.0</td><td>-999.0</td><td>-999.0</td><td>-999.0</td></tr>\n",
       "<tr><td>24.8797</td><td>0.26971</td><td>24.4296</td><td>0.255416</td><td>24.034</td><td>0.328238</td><td>23.7537</td><td>0.371262</td><td>24.2944</td><td>1.63749</td><td>212835530</td><td>324.87687</td><td>-41.238287</td><td>DES2137-4123</td><td>-999.0</td><td>-999.0</td><td>-999.0</td><td>-999.0</td><td>-999.0</td><td>-999.0</td><td>-999.0</td><td>-999.0</td></tr>\n",
       "<tr><td>26.0055</td><td>0.67688</td><td>24.9813</td><td>0.377289</td><td>24.5795</td><td>0.483049</td><td>24.5982</td><td>0.719402</td><td>24.5932</td><td>1.91446</td><td>212835629</td><td>324.875746</td><td>-41.239355</td><td>DES2137-4123</td><td>-999.0</td><td>-999.0</td><td>-999.0</td><td>-999.0</td><td>-999.0</td><td>-999.0</td><td>-999.0</td><td>-999.0</td></tr>\n",
       "<tr><td>26.3789</td><td>1.36246</td><td>24.8452</td><td>0.475733</td><td>23.641</td><td>0.290254</td><td>22.8861</td><td>0.212203</td><td>23.7033</td><td>1.20404</td><td>212835429</td><td>324.875066</td><td>-41.237232</td><td>DES2137-4123</td><td>-999.0</td><td>-999.0</td><td>-999.0</td><td>-999.0</td><td>-999.0</td><td>-999.0</td><td>-999.0</td><td>-999.0</td></tr>\n",
       "<tr><td>24.15</td><td>0.188705</td><td>23.4247</td><td>0.139917</td><td>22.7707</td><td>0.159046</td><td>23.1424</td><td>0.270389</td><td>22.4796</td><td>0.409255</td><td>212834367</td><td>324.850547</td><td>-41.22363</td><td>DES2137-4123</td><td>-999.0</td><td>-999.0</td><td>-999.0</td><td>-999.0</td><td>-999.0</td><td>-999.0</td><td>-999.0</td><td>-999.0</td></tr>\n",
       "<tr><td>24.8818</td><td>0.340645</td><td>23.5702</td><td>0.147674</td><td>22.3547</td><td>0.0857534</td><td>21.7181</td><td>0.0889664</td><td>21.5545</td><td>0.17698</td><td>212833707</td><td>324.854527</td><td>-41.215133</td><td>DES2137-4123</td><td>-999.0</td><td>-999.0</td><td>-999.0</td><td>-999.0</td><td>-999.0</td><td>-999.0</td><td>-999.0</td><td>-999.0</td></tr>\n",
       "<tr><td>23.9999</td><td>0.191154</td><td>23.1957</td><td>0.135181</td><td>22.8573</td><td>0.172216</td><td>22.8658</td><td>0.323857</td><td>22.7156</td><td>0.652205</td><td>212833861</td><td>324.861541</td><td>-41.216964</td><td>DES2137-4123</td><td>-999.0</td><td>-999.0</td><td>-999.0</td><td>-999.0</td><td>-999.0</td><td>-999.0</td><td>-999.0</td><td>-999.0</td></tr>\n",
       "<tr><td>22.687</td><td>0.0597092</td><td>22.1619</td><td>0.0604984</td><td>21.757</td><td>0.0652884</td><td>21.7179</td><td>0.117379</td><td>21.6081</td><td>0.245295</td><td>212833661</td><td>324.862607</td><td>-41.217183</td><td>DES2137-4123</td><td>-999.0</td><td>-999.0</td><td>-999.0</td><td>-999.0</td><td>-999.0</td><td>-999.0</td><td>-999.0</td><td>-999.0</td></tr>\n",
       "<tr><td>...</td><td>...</td><td>...</td><td>...</td><td>...</td><td>...</td><td>...</td><td>...</td><td>...</td><td>...</td><td>...</td><td>...</td><td>...</td><td>...</td><td>...</td><td>...</td><td>...</td><td>...</td><td>...</td><td>...</td><td>...</td><td>...</td></tr>\n",
       "<tr><td>22.5887</td><td>0.0844325</td><td>21.0707</td><td>0.0246592</td><td>19.8712</td><td>0.0141048</td><td>19.3385</td><td>0.0107876</td><td>19.1547</td><td>0.0423045</td><td>239126026</td><td>327.396111</td><td>-40.77465</td><td>DES2150-4040</td><td>17.147</td><td>0.097</td><td>17.179</td><td>-999.0</td><td>13.101</td><td>-999.0</td><td>9.154</td><td>-999.0</td></tr>\n",
       "<tr><td>25.4797</td><td>1.14686</td><td>23.5977</td><td>0.237492</td><td>22.8726</td><td>0.209277</td><td>22.5099</td><td>0.196615</td><td>22.7559</td><td>1.10424</td><td>239125937</td><td>327.394759</td><td>-40.772519</td><td>DES2150-4040</td><td>-999.0</td><td>-999.0</td><td>-999.0</td><td>-999.0</td><td>-999.0</td><td>-999.0</td><td>-999.0</td><td>-999.0</td></tr>\n",
       "<tr><td>25.6868</td><td>1.46924</td><td>24.1684</td><td>0.425603</td><td>22.698</td><td>0.206764</td><td>21.7418</td><td>0.0983172</td><td>20.6336</td><td>0.165749</td><td>239125785</td><td>327.394407</td><td>-40.769925</td><td>DES2150-4040</td><td>-999.0</td><td>-999.0</td><td>-999.0</td><td>-999.0</td><td>-999.0</td><td>-999.0</td><td>-999.0</td><td>-999.0</td></tr>\n",
       "<tr><td>21.6481</td><td>0.0730234</td><td>21.2467</td><td>0.0591664</td><td>21.433</td><td>0.12043</td><td>20.3007</td><td>0.0533782</td><td>18.6603</td><td>0.0551332</td><td>239125423</td><td>327.399758</td><td>-40.768504</td><td>DES2150-4040</td><td>-999.0</td><td>-999.0</td><td>-999.0</td><td>-999.0</td><td>-999.0</td><td>-999.0</td><td>-999.0</td><td>-999.0</td></tr>\n",
       "<tr><td>20.5046</td><td>0.02063</td><td>19.4815</td><td>0.0094686</td><td>18.7372</td><td>0.00818284</td><td>18.2269</td><td>0.00641166</td><td>17.6238</td><td>0.0170224</td><td>239125303</td><td>327.400189</td><td>-40.765372</td><td>DES2150-4040</td><td>-999.0</td><td>-999.0</td><td>-999.0</td><td>-999.0</td><td>-999.0</td><td>-999.0</td><td>-999.0</td><td>-999.0</td></tr>\n",
       "<tr><td>24.937</td><td>0.350523</td><td>24.0218</td><td>0.177322</td><td>23.8817</td><td>0.267585</td><td>23.3237</td><td>0.200732</td><td>22.7909</td><td>0.574554</td><td>239125953</td><td>327.414912</td><td>-40.772745</td><td>DES2150-4040</td><td>-999.0</td><td>-999.0</td><td>-999.0</td><td>-999.0</td><td>-999.0</td><td>-999.0</td><td>-999.0</td><td>-999.0</td></tr>\n",
       "<tr><td>22.9893</td><td>0.142466</td><td>22.4092</td><td>0.0980194</td><td>22.4379</td><td>0.172473</td><td>22.157</td><td>0.167265</td><td>22.5233</td><td>1.09561</td><td>239126409</td><td>327.414163</td><td>-40.781468</td><td>DES2150-4040</td><td>-999.0</td><td>-999.0</td><td>-999.0</td><td>-999.0</td><td>-999.0</td><td>-999.0</td><td>-999.0</td><td>-999.0</td></tr>\n",
       "<tr><td>23.7636</td><td>0.247219</td><td>23.2866</td><td>0.186782</td><td>23.3512</td><td>0.339885</td><td>23.275</td><td>0.398686</td><td>22.5681</td><td>0.971858</td><td>239126721</td><td>327.415242</td><td>-40.786643</td><td>DES2150-4040</td><td>-999.0</td><td>-999.0</td><td>-999.0</td><td>-999.0</td><td>-999.0</td><td>-999.0</td><td>-999.0</td><td>-999.0</td></tr>\n",
       "<tr><td>23.9309</td><td>0.328073</td><td>22.721</td><td>0.126172</td><td>22.2241</td><td>0.137063</td><td>22.3682</td><td>0.198003</td><td>22.1195</td><td>0.730715</td><td>239126603</td><td>327.414633</td><td>-40.784872</td><td>DES2150-4040</td><td>-999.0</td><td>-999.0</td><td>-999.0</td><td>-999.0</td><td>-999.0</td><td>-999.0</td><td>-999.0</td><td>-999.0</td></tr>\n",
       "<tr><td>23.9215</td><td>0.234452</td><td>23.2353</td><td>0.14623</td><td>23.2038</td><td>0.243789</td><td>22.7936</td><td>0.209622</td><td>22.5412</td><td>0.777223</td><td>239126602</td><td>327.415484</td><td>-40.784891</td><td>DES2150-4040</td><td>17.634</td><td>0.208</td><td>16.993</td><td>-999.0</td><td>12.449</td><td>-999.0</td><td>8.779</td><td>-999.0</td></tr>\n",
       "</table>"
      ],
      "text/plain": [
       "<Table length=245505>\n",
       " DES_g  DES_g_err  DES_r  DES_r_err ... WISE_W3 WISE_W3_err WISE_W4 WISE_W4_err\n",
       "float64  float64  float64  float64  ... float64   float64   float64   float64  \n",
       "------- --------- ------- --------- ... ------- ----------- ------- -----------\n",
       "22.4551 0.0337882  22.157 0.0371656 ...  -999.0      -999.0  -999.0      -999.0\n",
       " 23.194 0.0941275 21.9697 0.0437027 ...  -999.0      -999.0  -999.0      -999.0\n",
       "   99.0      99.0    99.0      99.0 ...  -999.0      -999.0  -999.0      -999.0\n",
       "24.8797   0.26971 24.4296  0.255416 ...  -999.0      -999.0  -999.0      -999.0\n",
       "26.0055   0.67688 24.9813  0.377289 ...  -999.0      -999.0  -999.0      -999.0\n",
       "26.3789   1.36246 24.8452  0.475733 ...  -999.0      -999.0  -999.0      -999.0\n",
       "  24.15  0.188705 23.4247  0.139917 ...  -999.0      -999.0  -999.0      -999.0\n",
       "24.8818  0.340645 23.5702  0.147674 ...  -999.0      -999.0  -999.0      -999.0\n",
       "23.9999  0.191154 23.1957  0.135181 ...  -999.0      -999.0  -999.0      -999.0\n",
       " 22.687 0.0597092 22.1619 0.0604984 ...  -999.0      -999.0  -999.0      -999.0\n",
       "    ...       ...     ...       ... ...     ...         ...     ...         ...\n",
       "22.5887 0.0844325 21.0707 0.0246592 ...  13.101      -999.0   9.154      -999.0\n",
       "25.4797   1.14686 23.5977  0.237492 ...  -999.0      -999.0  -999.0      -999.0\n",
       "25.6868   1.46924 24.1684  0.425603 ...  -999.0      -999.0  -999.0      -999.0\n",
       "21.6481 0.0730234 21.2467 0.0591664 ...  -999.0      -999.0  -999.0      -999.0\n",
       "20.5046   0.02063 19.4815 0.0094686 ...  -999.0      -999.0  -999.0      -999.0\n",
       " 24.937  0.350523 24.0218  0.177322 ...  -999.0      -999.0  -999.0      -999.0\n",
       "22.9893  0.142466 22.4092 0.0980194 ...  -999.0      -999.0  -999.0      -999.0\n",
       "23.7636  0.247219 23.2866  0.186782 ...  -999.0      -999.0  -999.0      -999.0\n",
       "23.9309  0.328073  22.721  0.126172 ...  -999.0      -999.0  -999.0      -999.0\n",
       "23.9215  0.234452 23.2353   0.14623 ...  12.449      -999.0   8.779      -999.0"
      ]
     },
     "execution_count": 11,
     "metadata": {},
     "output_type": "execute_result"
    }
   ],
   "source": [
    "des_tbl"
   ]
  },
  {
   "cell_type": "code",
   "execution_count": 14,
   "metadata": {},
   "outputs": [],
   "source": [
    "gd_r = des_tbl['DES_r'] < 30."
   ]
  },
  {
   "cell_type": "code",
   "execution_count": 15,
   "metadata": {},
   "outputs": [
    {
     "data": {
      "image/png": "[encoded data removed]",
      "text/plain": [
       "<Figure size 432x288 with 1 Axes>"
      ]
     },
     "metadata": {
      "needs_background": "light"
     },
     "output_type": "display_data"
    }
   ],
   "source": [
    "plt.clf()\n",
    "ax = plt.gca()\n",
    "ax.hist(des_tbl['DES_r'][gd_r])\n",
    "plt.show()"
   ]
  },
  {
   "cell_type": "markdown",
   "metadata": {},
   "source": [
    "# Write"
   ]
  },
  {
   "cell_type": "code",
   "execution_count": 17,
   "metadata": {},
   "outputs": [],
   "source": [
    "des_tbl.meta['RA'] = frb180924.coord.ra.value\n",
    "des_tbl.meta['DEC'] = frb180924.coord.dec.value\n",
    "des_tbl.meta['RSEARCH'] = 1.0"
   ]
  },
  {
   "cell_type": "code",
   "execution_count": 18,
   "metadata": {},
   "outputs": [],
   "source": [
    "des_tbl.write('tst_DES_180924.fits', overwrite=True)"
   ]
  },
  {
   "cell_type": "code",
   "execution_count": null,
   "metadata": {},
   "outputs": [],
   "source": []
  }
 ],
 "metadata": {
  "kernelspec": {
   "display_name": "Python 3",
   "language": "python",
   "name": "python3"
  },
  "language_info": {
   "codemirror_mode": {
    "name": "ipython",
    "version": 3
   },
   "file_extension": ".py",
   "mimetype": "text/x-python",
   "name": "python",
   "nbconvert_exporter": "python",
   "pygments_lexer": "ipython3",
   "version": "3.7.6"
  }
 },
 "nbformat": 4,
 "nbformat_minor": 4
}
