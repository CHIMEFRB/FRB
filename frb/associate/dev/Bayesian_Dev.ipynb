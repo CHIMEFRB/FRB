{
 "cells": [
  {
   "cell_type": "markdown",
   "metadata": {},
   "source": [
    "# Bayesian Development\n",
    "    v1 - n Prior; correct offset"
   ]
  },
  {
   "cell_type": "code",
   "execution_count": 12,
   "metadata": {},
   "outputs": [],
   "source": [
    "# imports\n",
    "from importlib import reload\n",
    "import numpy as np\n",
    "\n",
    "from astropy.table import Table\n",
    "from astropy import units\n",
    "from astropy.coordinates import SkyCoord\n",
    "\n",
    "from frb.associate import bayesian"
   ]
  },
  {
   "cell_type": "markdown",
   "metadata": {},
   "source": [
    "# Load sky and FRBs"
   ]
  },
  {
   "cell_type": "code",
   "execution_count": 29,
   "metadata": {},
   "outputs": [],
   "source": [
    "sky = Table.read('tst_DES_180924.fits')\n",
    "frbs = Table.read('tst_FRB_180924.fits')"
   ]
  },
  {
   "cell_type": "code",
   "execution_count": 30,
   "metadata": {},
   "outputs": [
    {
     "data": {
      "text/html": [
       "<i>Table length=5</i>\n",
       "<table id=\"table140054539539408\" class=\"table-striped table-bordered table-condensed\">\n",
       "<thead><tr><th>DES_r</th><th>ra</th><th>dec</th><th>iobj</th><th>obj_ra</th><th>obj_dec</th><th>theta</th></tr></thead>\n",
       "<thead><tr><th>float64</th><th>float64</th><th>float64</th><th>int64</th><th>float64</th><th>float64</th><th>float64</th></tr></thead>\n",
       "<tr><td>19.58738499726639</td><td>325.2840199522759</td><td>-40.809129255163334</td><td>47578</td><td>325.284186</td><td>-40.809473</td><td>1.4229591462532893</td></tr>\n",
       "<tr><td>19.883503965871313</td><td>325.4491267082537</td><td>-41.34527298969795</td><td>13026</td><td>325.448908</td><td>-41.345647</td><td>1.354869437609205</td></tr>\n",
       "<tr><td>20.880999641715785</td><td>325.72853231402934</td><td>-41.653828544162295</td><td>19175</td><td>325.728522</td><td>-41.653498</td><td>1.6412871806252818</td></tr>\n",
       "<tr><td>19.258669315368255</td><td>325.2453963834446</td><td>-40.6334153215558</td><td>54813</td><td>325.245823</td><td>-40.633118</td><td>1.5820113572493517</td></tr>\n",
       "<tr><td>19.42883505943663</td><td>326.40971727957566</td><td>-41.701818635272296</td><td>211442</td><td>326.409368</td><td>-41.701616</td><td>1.2115197286530044</td></tr>\n",
       "</table>"
      ],
      "text/plain": [
       "<Table length=5>\n",
       "      DES_r                ra         ...  obj_dec         theta       \n",
       "     float64            float64       ...  float64        float64      \n",
       "------------------ ------------------ ... ---------- ------------------\n",
       " 19.58738499726639  325.2840199522759 ... -40.809473 1.4229591462532893\n",
       "19.883503965871313  325.4491267082537 ... -41.345647  1.354869437609205\n",
       "20.880999641715785 325.72853231402934 ... -41.653498 1.6412871806252818\n",
       "19.258669315368255  325.2453963834446 ... -40.633118 1.5820113572493517\n",
       " 19.42883505943663 326.40971727957566 ... -41.701616 1.2115197286530044"
      ]
     },
     "execution_count": 30,
     "metadata": {},
     "output_type": "execute_result"
    }
   ],
   "source": [
    "frbs[0:5]"
   ]
  },
  {
   "cell_type": "code",
   "execution_count": 31,
   "metadata": {},
   "outputs": [],
   "source": [
    "obj_coord = SkyCoord(ra=sky['ra'], dec=sky['dec'], unit='deg')\n",
    "frb_coord = SkyCoord(ra=frbs['ra'], dec=frbs['dec'], unit='deg')"
   ]
  },
  {
   "cell_type": "code",
   "execution_count": 59,
   "metadata": {},
   "outputs": [
    {
     "data": {
      "text/html": [
       "<i>Table length=5</i>\n",
       "<table id=\"table140054542753552\" class=\"table-striped table-bordered table-condensed\">\n",
       "<thead><tr><th>DES_g</th><th>DES_g_err</th><th>DES_r</th><th>DES_r_err</th><th>DES_i</th><th>DES_i_err</th><th>DES_z</th><th>DES_z_err</th><th>DES_Y</th><th>DES_Y_err</th><th>DES_ID</th><th>ra</th><th>dec</th><th>DES_tile</th><th>WISE_W1</th><th>WISE_W1_err</th><th>WISE_W2</th><th>WISE_W2_err</th><th>WISE_W3</th><th>WISE_W3_err</th><th>WISE_W4</th><th>WISE_W4_err</th></tr></thead>\n",
       "<thead><tr><th>float64</th><th>float64</th><th>float64</th><th>float64</th><th>float64</th><th>float64</th><th>float64</th><th>float64</th><th>float64</th><th>float64</th><th>int64</th><th>float64</th><th>float64</th><th>bytes12</th><th>float64</th><th>float64</th><th>float64</th><th>float64</th><th>float64</th><th>float64</th><th>float64</th><th>float64</th></tr></thead>\n",
       "<tr><td>22.4551</td><td>0.0337882</td><td>22.157</td><td>0.0371656</td><td>22.0062</td><td>0.0646035</td><td>21.3684</td><td>0.059213</td><td>22.0598</td><td>0.258294</td><td>212833823</td><td>324.8499</td><td>-41.2165</td><td>DES2137-4123</td><td>-999.0</td><td>-999.0</td><td>-999.0</td><td>-999.0</td><td>-999.0</td><td>-999.0</td><td>-999.0</td><td>-999.0</td></tr>\n",
       "<tr><td>23.194</td><td>0.0941275</td><td>21.9697</td><td>0.0437027</td><td>21.5887</td><td>0.0569069</td><td>21.1987</td><td>0.0581137</td><td>21.1634</td><td>0.150334</td><td>212835313</td><td>324.871578</td><td>-41.235802</td><td>DES2137-4123</td><td>-999.0</td><td>-999.0</td><td>-999.0</td><td>-999.0</td><td>-999.0</td><td>-999.0</td><td>-999.0</td><td>-999.0</td></tr>\n",
       "<tr><td>99.0</td><td>99.0</td><td>99.0</td><td>99.0</td><td>23.9364</td><td>0.253412</td><td>23.1386</td><td>0.178016</td><td>22.8145</td><td>0.353177</td><td>212835513</td><td>324.873778</td><td>-41.23811</td><td>DES2137-4123</td><td>-999.0</td><td>-999.0</td><td>-999.0</td><td>-999.0</td><td>-999.0</td><td>-999.0</td><td>-999.0</td><td>-999.0</td></tr>\n",
       "<tr><td>24.8797</td><td>0.26971</td><td>24.4296</td><td>0.255416</td><td>24.034</td><td>0.328238</td><td>23.7537</td><td>0.371262</td><td>24.2944</td><td>1.63749</td><td>212835530</td><td>324.87687</td><td>-41.238287</td><td>DES2137-4123</td><td>-999.0</td><td>-999.0</td><td>-999.0</td><td>-999.0</td><td>-999.0</td><td>-999.0</td><td>-999.0</td><td>-999.0</td></tr>\n",
       "<tr><td>26.0055</td><td>0.67688</td><td>24.9813</td><td>0.377289</td><td>24.5795</td><td>0.483049</td><td>24.5982</td><td>0.719402</td><td>24.5932</td><td>1.91446</td><td>212835629</td><td>324.875746</td><td>-41.239355</td><td>DES2137-4123</td><td>-999.0</td><td>-999.0</td><td>-999.0</td><td>-999.0</td><td>-999.0</td><td>-999.0</td><td>-999.0</td><td>-999.0</td></tr>\n",
       "</table>"
      ],
      "text/plain": [
       "<Table length=5>\n",
       " DES_g  DES_g_err  DES_r  DES_r_err ... WISE_W3 WISE_W3_err WISE_W4 WISE_W4_err\n",
       "float64  float64  float64  float64  ... float64   float64   float64   float64  \n",
       "------- --------- ------- --------- ... ------- ----------- ------- -----------\n",
       "22.4551 0.0337882  22.157 0.0371656 ...  -999.0      -999.0  -999.0      -999.0\n",
       " 23.194 0.0941275 21.9697 0.0437027 ...  -999.0      -999.0  -999.0      -999.0\n",
       "   99.0      99.0    99.0      99.0 ...  -999.0      -999.0  -999.0      -999.0\n",
       "24.8797   0.26971 24.4296  0.255416 ...  -999.0      -999.0  -999.0      -999.0\n",
       "26.0055   0.67688 24.9813  0.377289 ...  -999.0      -999.0  -999.0      -999.0"
      ]
     },
     "execution_count": 59,
     "metadata": {},
     "output_type": "execute_result"
    }
   ],
   "source": [
    "sky[0:5]"
   ]
  },
  {
   "cell_type": "markdown",
   "metadata": {},
   "source": [
    "# FRB "
   ]
  },
  {
   "cell_type": "markdown",
   "metadata": {},
   "source": [
    "## Uncertainty"
   ]
  },
  {
   "cell_type": "code",
   "execution_count": 82,
   "metadata": {},
   "outputs": [],
   "source": [
    "sigR = 0.25 * units.arcsec"
   ]
  },
  {
   "cell_type": "markdown",
   "metadata": {},
   "source": [
    "# Theta"
   ]
  },
  {
   "cell_type": "code",
   "execution_count": 107,
   "metadata": {},
   "outputs": [],
   "source": [
    "theta_u = dict(method='uniform', max=4.) # This is twice what was actually generated"
   ]
  },
  {
   "cell_type": "markdown",
   "metadata": {},
   "source": [
    "# n Prior"
   ]
  },
  {
   "cell_type": "code",
   "execution_count": 68,
   "metadata": {},
   "outputs": [],
   "source": [
    "theta_max = 6 * units.arcsec"
   ]
  },
  {
   "cell_type": "code",
   "execution_count": 70,
   "metadata": {},
   "outputs": [],
   "source": [
    "r_lim = 25.  # Assumed limiting magnitude"
   ]
  },
  {
   "cell_type": "markdown",
   "metadata": {},
   "source": [
    "## One example"
   ]
  },
  {
   "cell_type": "code",
   "execution_count": 90,
   "metadata": {},
   "outputs": [],
   "source": [
    "ifrb = 8"
   ]
  },
  {
   "cell_type": "code",
   "execution_count": 91,
   "metadata": {},
   "outputs": [
    {
     "data": {
      "text/plain": [
       "5"
      ]
     },
     "execution_count": 91,
     "metadata": {},
     "output_type": "execute_result"
    }
   ],
   "source": [
    "cands = frb_coord[ifrb].separation(obj_coord)  < theta_max\n",
    "np.sum(cands)"
   ]
  },
  {
   "cell_type": "code",
   "execution_count": 92,
   "metadata": {},
   "outputs": [
    {
     "data": {
      "text/html": [
       "<i>Table length=5</i>\n",
       "<table id=\"table140054491387088\" class=\"table-striped table-bordered table-condensed\">\n",
       "<thead><tr><th>DES_g</th><th>DES_g_err</th><th>DES_r</th><th>DES_r_err</th><th>DES_i</th><th>DES_i_err</th><th>DES_z</th><th>DES_z_err</th><th>DES_Y</th><th>DES_Y_err</th><th>DES_ID</th><th>ra</th><th>dec</th><th>DES_tile</th><th>WISE_W1</th><th>WISE_W1_err</th><th>WISE_W2</th><th>WISE_W2_err</th><th>WISE_W3</th><th>WISE_W3_err</th><th>WISE_W4</th><th>WISE_W4_err</th></tr></thead>\n",
       "<thead><tr><th>float64</th><th>float64</th><th>float64</th><th>float64</th><th>float64</th><th>float64</th><th>float64</th><th>float64</th><th>float64</th><th>float64</th><th>int64</th><th>float64</th><th>float64</th><th>bytes12</th><th>float64</th><th>float64</th><th>float64</th><th>float64</th><th>float64</th><th>float64</th><th>float64</th><th>float64</th></tr></thead>\n",
       "<tr><td>25.8968</td><td>0.476234</td><td>24.586</td><td>0.225548</td><td>24.5381</td><td>0.341959</td><td>23.1215</td><td>0.275124</td><td>19.432</td><td>0.0160541</td><td>245078478</td><td>325.121359</td><td>-41.203248</td><td>DES2141-4123</td><td>-999.0</td><td>-999.0</td><td>-999.0</td><td>-999.0</td><td>-999.0</td><td>-999.0</td><td>-999.0</td><td>-999.0</td></tr>\n",
       "<tr><td>21.916</td><td>0.0649429</td><td>21.0832</td><td>0.0479341</td><td>20.9738</td><td>0.0687999</td><td>19.4988</td><td>0.0402104</td><td>16.3461</td><td>0.00495078</td><td>245078490</td><td>325.123018</td><td>-41.203783</td><td>DES2141-4123</td><td>-999.0</td><td>-999.0</td><td>-999.0</td><td>-999.0</td><td>-999.0</td><td>-999.0</td><td>-999.0</td><td>-999.0</td></tr>\n",
       "<tr><td>23.0426</td><td>0.119027</td><td>22.2848</td><td>0.0982046</td><td>22.336</td><td>0.158252</td><td>20.3258</td><td>0.0500422</td><td>17.3767</td><td>0.00856443</td><td>245078596</td><td>325.12318</td><td>-41.204758</td><td>DES2141-4123</td><td>-999.0</td><td>-999.0</td><td>-999.0</td><td>-999.0</td><td>-999.0</td><td>-999.0</td><td>-999.0</td><td>-999.0</td></tr>\n",
       "<tr><td>22.8341</td><td>0.0998012</td><td>22.0864</td><td>0.0837944</td><td>22.1234</td><td>0.130089</td><td>20.2562</td><td>0.0497385</td><td>17.4727</td><td>0.00940765</td><td>245078554</td><td>325.123534</td><td>-41.204249</td><td>DES2141-4123</td><td>-999.0</td><td>-999.0</td><td>-999.0</td><td>-999.0</td><td>-999.0</td><td>-999.0</td><td>-999.0</td><td>-999.0</td></tr>\n",
       "<tr><td>23.9085</td><td>0.193006</td><td>22.7417</td><td>0.110468</td><td>23.246</td><td>0.263104</td><td>21.0701</td><td>0.075993</td><td>19.3242</td><td>0.0366274</td><td>245078541</td><td>325.124585</td><td>-41.204037</td><td>DES2141-4123</td><td>-999.0</td><td>-999.0</td><td>-999.0</td><td>-999.0</td><td>-999.0</td><td>-999.0</td><td>-999.0</td><td>-999.0</td></tr>\n",
       "</table>"
      ],
      "text/plain": [
       "<Table length=5>\n",
       " DES_g  DES_g_err  DES_r  DES_r_err ... WISE_W3 WISE_W3_err WISE_W4 WISE_W4_err\n",
       "float64  float64  float64  float64  ... float64   float64   float64   float64  \n",
       "------- --------- ------- --------- ... ------- ----------- ------- -----------\n",
       "25.8968  0.476234  24.586  0.225548 ...  -999.0      -999.0  -999.0      -999.0\n",
       " 21.916 0.0649429 21.0832 0.0479341 ...  -999.0      -999.0  -999.0      -999.0\n",
       "23.0426  0.119027 22.2848 0.0982046 ...  -999.0      -999.0  -999.0      -999.0\n",
       "22.8341 0.0998012 22.0864 0.0837944 ...  -999.0      -999.0  -999.0      -999.0\n",
       "23.9085  0.193006 22.7417  0.110468 ...  -999.0      -999.0  -999.0      -999.0"
      ]
     },
     "execution_count": 92,
     "metadata": {},
     "output_type": "execute_result"
    }
   ],
   "source": [
    "cand_gal = sky[cands]\n",
    "cand_gal"
   ]
  },
  {
   "cell_type": "code",
   "execution_count": 93,
   "metadata": {},
   "outputs": [
    {
     "data": {
      "text/latex": [
       "[$4.11963\\mathrm{{}^{\\prime\\prime}}$ $1.13545\\mathrm{{}^{\\prime\\prime}}$\n",
       " $4.63313\\mathrm{{}^{\\prime\\prime}}$ $3.29256\\mathrm{{}^{\\prime\\prime}}$\n",
       " $5.10229\\mathrm{{}^{\\prime\\prime}}$]"
      ],
      "text/plain": [
       "<Angle [4.11963273, 1.13544809, 4.63313217, 3.29255709, 5.1022928 ] arcsec>"
      ]
     },
     "execution_count": 93,
     "metadata": {},
     "output_type": "execute_result"
    }
   ],
   "source": [
    "frb_coord[ifrb].separation(obj_coord[cands]).to('arcsec')"
   ]
  },
  {
   "cell_type": "code",
   "execution_count": 94,
   "metadata": {},
   "outputs": [
    {
     "data": {
      "text/plain": [
       "<SkyCoord (ICRS): (ra, dec) in deg\n",
       "    [(325.121359, -41.203248), (325.123018, -41.203783),\n",
       "     (325.12318 , -41.204758), (325.123534, -41.204249),\n",
       "     (325.124585, -41.204037)]>"
      ]
     },
     "execution_count": 94,
     "metadata": {},
     "output_type": "execute_result"
    }
   ],
   "source": [
    "cand_coord = obj_coord[cands]\n",
    "cand_coord"
   ]
  },
  {
   "cell_type": "code",
   "execution_count": 112,
   "metadata": {},
   "outputs": [
    {
     "data": {
      "text/latex": [
       "[$4.11963\\mathrm{{}^{\\prime\\prime}}$ $1.13545\\mathrm{{}^{\\prime\\prime}}$\n",
       " $4.63313\\mathrm{{}^{\\prime\\prime}}$ $3.29256\\mathrm{{}^{\\prime\\prime}}$\n",
       " $5.10229\\mathrm{{}^{\\prime\\prime}}$]"
      ],
      "text/plain": [
       "<Angle [4.11963273, 1.13544809, 4.63313217, 3.29255709, 5.1022928 ] arcsec>"
      ]
     },
     "execution_count": 112,
     "metadata": {},
     "output_type": "execute_result"
    }
   ],
   "source": [
    "cand_sep = frb_coord[ifrb].separation(cand_coord).to('arcsec')\n",
    "cand_sep"
   ]
  },
  {
   "cell_type": "markdown",
   "metadata": {},
   "source": [
    "### Raw $P(M_i)$"
   ]
  },
  {
   "cell_type": "code",
   "execution_count": 122,
   "metadata": {},
   "outputs": [
    {
     "data": {
      "text/plain": [
       "<module 'frb.associate.bayesian' from '/home/xavier/Projects/FRB/frb/associate/bayesian.py'>"
      ]
     },
     "execution_count": 122,
     "metadata": {},
     "output_type": "execute_result"
    }
   ],
   "source": [
    "reload(bayesian)"
   ]
  },
  {
   "cell_type": "code",
   "execution_count": 115,
   "metadata": {},
   "outputs": [],
   "source": [
    "# Adding arbitrary half-light radius of 1.0\"\n",
    "cand_gal['r_half'] = 1."
   ]
  },
  {
   "cell_type": "code",
   "execution_count": 123,
   "metadata": {},
   "outputs": [
    {
     "data": {
      "text/plain": [
       "array([0.55107678, 0.98416379, 0.88772721, 0.93558569, 0.82316096])"
      ]
     },
     "execution_count": 123,
     "metadata": {},
     "output_type": "execute_result"
    }
   ],
   "source": [
    "raw_prior_Mi = bayesian.prior_Mi_n(cand_gal['DES_r'].data, cand_sep.to('arcsec').value, \n",
    "                                   cand_gal['r_half'].data, sigR.to('arcsec').value)\n",
    "raw_prior_Mi"
   ]
  },
  {
   "cell_type": "markdown",
   "metadata": {},
   "source": [
    "### Raw $P(S)$"
   ]
  },
  {
   "cell_type": "code",
   "execution_count": 124,
   "metadata": {},
   "outputs": [
    {
     "data": {
      "text/plain": [
       "0.015836208639986582"
      ]
     },
     "execution_count": 124,
     "metadata": {},
     "output_type": "execute_result"
    }
   ],
   "source": [
    "#raw_prior_S = bayesian.prior_S_n(r_lim, theta_max.to('arcsec').value)\n",
    "raw_prior_S = 1. - np.max(raw_prior_Mi)\n",
    "raw_prior_S"
   ]
  },
  {
   "cell_type": "markdown",
   "metadata": {},
   "source": [
    "### Renormalize priors to unit sum"
   ]
  },
  {
   "cell_type": "code",
   "execution_count": 125,
   "metadata": {},
   "outputs": [
    {
     "data": {
      "text/plain": [
       "(array([0.13128532, 0.23446145, 0.21148696, 0.22288848, 0.19610507]),\n",
       " 0.0037727260566120034)"
      ]
     },
     "execution_count": 125,
     "metadata": {},
     "output_type": "execute_result"
    }
   ],
   "source": [
    "prior_Mi, prior_S = bayesian.renorm_priors(raw_prior_Mi, raw_prior_S)\n",
    "prior_Mi, prior_S"
   ]
  },
  {
   "cell_type": "markdown",
   "metadata": {},
   "source": [
    "### Calculate $p(x|M_i)$"
   ]
  },
  {
   "cell_type": "code",
   "execution_count": 128,
   "metadata": {},
   "outputs": [
    {
     "data": {
      "text/plain": [
       "<module 'frb.associate.bayesian' from '/home/xavier/Projects/FRB/frb/associate/bayesian.py'>"
      ]
     },
     "execution_count": 128,
     "metadata": {},
     "output_type": "execute_result"
    }
   ],
   "source": [
    "reload(bayesian)"
   ]
  },
  {
   "cell_type": "code",
   "execution_count": 129,
   "metadata": {},
   "outputs": [
    {
     "data": {
      "text/plain": [
       "array([1.32521491e-03, 4.34308598e-03, 2.26092867e-05, 4.33184839e-03,\n",
       "       1.98391998e-08])"
      ]
     },
     "execution_count": 129,
     "metadata": {},
     "output_type": "execute_result"
    }
   ],
   "source": [
    "p_xMi = bayesian.px_Mi(theta_max.to('arcsec').value, frb_coord[ifrb], cand_coord, theta_u, sigR.to('arcsec').value)\n",
    "p_xMi"
   ]
  },
  {
   "cell_type": "markdown",
   "metadata": {},
   "source": [
    "### Calculate $p(x|S)$\n",
    "    For our offset prior, the location doesn't matter provided it is within theta_max\n",
    "    For ones that scale with theta, we might average over random placement.."
   ]
  },
  {
   "cell_type": "code",
   "execution_count": 133,
   "metadata": {},
   "outputs": [
    {
     "data": {
      "text/plain": [
       "0.004343085980399328"
      ]
     },
     "execution_count": 133,
     "metadata": {},
     "output_type": "execute_result"
    }
   ],
   "source": [
    "p_xS = bayesian.px_Mi(theta_max.to('arcsec').value, frb_coord[ifrb], frb_coord[ifrb:ifrb+1], \n",
    "                      theta_u, sigR.to('arcsec').value)[0]\n",
    "p_xS"
   ]
  },
  {
   "cell_type": "markdown",
   "metadata": {},
   "source": [
    "### Calculate $p(x)$"
   ]
  },
  {
   "cell_type": "code",
   "execution_count": 134,
   "metadata": {},
   "outputs": [
    {
     "data": {
      "text/plain": [
       "0.0021789573237120507"
      ]
     },
     "execution_count": 134,
     "metadata": {},
     "output_type": "execute_result"
    }
   ],
   "source": [
    "p_x = prior_S*p_xS + np.sum(prior_Mi * p_xMi)  #  I zeroed out P(S)!\n",
    "p_x"
   ]
  },
  {
   "cell_type": "markdown",
   "metadata": {},
   "source": [
    "### Evalute $P(M_i|x)$"
   ]
  },
  {
   "cell_type": "code",
   "execution_count": 135,
   "metadata": {},
   "outputs": [
    {
     "data": {
      "text/plain": [
       "array([7.98461083e-02, 4.67327289e-01, 2.19442997e-03, 4.43110610e-01,\n",
       "       1.78551805e-06])"
      ]
     },
     "execution_count": 135,
     "metadata": {},
     "output_type": "execute_result"
    }
   ],
   "source": [
    "P_Mix = prior_Mi * p_xMi / p_x\n",
    "P_Mix"
   ]
  },
  {
   "cell_type": "code",
   "execution_count": 1,
   "metadata": {},
   "outputs": [
    {
     "ename": "NameError",
     "evalue": "name 'prior_S' is not defined",
     "output_type": "error",
     "traceback": [
      "\u001b[0;31m---------------------------------------------------------------------------\u001b[0m",
      "\u001b[0;31mNameError\u001b[0m                                 Traceback (most recent call last)",
      "\u001b[0;32m<ipython-input-1-235d8e08fab1>\u001b[0m in \u001b[0;36m<module>\u001b[0;34m\u001b[0m\n\u001b[0;32m----> 1\u001b[0;31m \u001b[0mP_Sx\u001b[0m \u001b[0;34m=\u001b[0m \u001b[0mprior_S\u001b[0m \u001b[0;34m*\u001b[0m \u001b[0mp_xS\u001b[0m \u001b[0;34m/\u001b[0m \u001b[0mp_x\u001b[0m\u001b[0;34m\u001b[0m\u001b[0;34m\u001b[0m\u001b[0m\n\u001b[0m\u001b[1;32m      2\u001b[0m \u001b[0mP_Sx\u001b[0m\u001b[0;34m\u001b[0m\u001b[0;34m\u001b[0m\u001b[0m\n",
      "\u001b[0;31mNameError\u001b[0m: name 'prior_S' is not defined"
     ]
    }
   ],
   "source": [
    "P_Sx = prior_S * p_xS / p_x\n",
    "P_Sx"
   ]
  },
  {
   "cell_type": "markdown",
   "metadata": {},
   "source": [
    "### Check the posteriors"
   ]
  },
  {
   "cell_type": "code",
   "execution_count": 138,
   "metadata": {},
   "outputs": [
    {
     "data": {
      "text/plain": [
       "1.0"
      ]
     },
     "execution_count": 138,
     "metadata": {},
     "output_type": "execute_result"
    }
   ],
   "source": [
    "np.sum(P_Mix) + p_Sx"
   ]
  },
  {
   "cell_type": "code",
   "execution_count": null,
   "metadata": {},
   "outputs": [],
   "source": []
  }
 ],
 "metadata": {
  "kernelspec": {
   "display_name": "Python 3",
   "language": "python",
   "name": "python3"
  },
  "language_info": {
   "codemirror_mode": {
    "name": "ipython",
    "version": 3
   },
   "file_extension": ".py",
   "mimetype": "text/x-python",
   "name": "python",
   "nbconvert_exporter": "python",
   "pygments_lexer": "ipython3",
   "version": "3.7.6"
  }
 },
 "nbformat": 4,
 "nbformat_minor": 4
}
