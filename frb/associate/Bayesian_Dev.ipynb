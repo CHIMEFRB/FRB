{
 "cells": [
  {
   "cell_type": "markdown",
   "metadata": {},
   "source": [
    "# Bayesian Development\n",
    "    v1 - n Prior; correct offset"
   ]
  },
  {
   "cell_type": "code",
   "execution_count": 10,
   "metadata": {},
   "outputs": [],
   "source": [
    "# imports\n",
    "from importlib imp\n",
    "import numpy as np\n",
    "\n",
    "from astropy.table import Table\n",
    "from astropy import units\n",
    "from astropy.coordinates import SkyCoord\n",
    "\n",
    "from frb.associate import bayesian"
   ]
  },
  {
   "cell_type": "markdown",
   "metadata": {},
   "source": [
    "# Load sky and FRBs"
   ]
  },
  {
   "cell_type": "code",
   "execution_count": 2,
   "metadata": {},
   "outputs": [],
   "source": [
    "sky = Table.read('tst_DES_180924.fits')\n",
    "frbs = Table.read('tst_FRB_180924.fits')"
   ]
  },
  {
   "cell_type": "code",
   "execution_count": 3,
   "metadata": {},
   "outputs": [
    {
     "data": {
      "text/html": [
       "<i>Table length=5</i>\n",
       "<table id=\"table140054653193680\" class=\"table-striped table-bordered table-condensed\">\n",
       "<thead><tr><th>DES_r</th><th>ra</th><th>dec</th><th>obj_ra</th><th>obj_dec</th></tr></thead>\n",
       "<thead><tr><th>float64</th><th>float64</th><th>float64</th><th>float64</th><th>float64</th></tr></thead>\n",
       "<tr><td>19.58738499726639</td><td>325.2845297447765</td><td>-40.80959868006434</td><td>325.284186</td><td>-40.809473</td></tr>\n",
       "<tr><td>19.883503965871313</td><td>325.44916377652606</td><td>-41.34539896265533</td><td>325.448908</td><td>-41.345647</td></tr>\n",
       "<tr><td>20.880999641715785</td><td>325.72796239814005</td><td>-41.653308052842576</td><td>325.728522</td><td>-41.653498</td></tr>\n",
       "<tr><td>19.258669315368255</td><td>325.2455256776576</td><td>-40.633441755740805</td><td>325.245823</td><td>-40.633118</td></tr>\n",
       "<tr><td>19.42883505943663</td><td>326.4091653643395</td><td>-41.7013552220866</td><td>326.409368</td><td>-41.701616</td></tr>\n",
       "</table>"
      ],
      "text/plain": [
       "<Table length=5>\n",
       "      DES_r                ra                 dec           obj_ra    obj_dec  \n",
       "     float64            float64             float64        float64    float64  \n",
       "------------------ ------------------ ------------------- ---------- ----------\n",
       " 19.58738499726639  325.2845297447765  -40.80959868006434 325.284186 -40.809473\n",
       "19.883503965871313 325.44916377652606  -41.34539896265533 325.448908 -41.345647\n",
       "20.880999641715785 325.72796239814005 -41.653308052842576 325.728522 -41.653498\n",
       "19.258669315368255  325.2455256776576 -40.633441755740805 325.245823 -40.633118\n",
       " 19.42883505943663  326.4091653643395   -41.7013552220866 326.409368 -41.701616"
      ]
     },
     "execution_count": 3,
     "metadata": {},
     "output_type": "execute_result"
    }
   ],
   "source": [
    "frbs[0:5]"
   ]
  },
  {
   "cell_type": "code",
   "execution_count": 7,
   "metadata": {},
   "outputs": [],
   "source": [
    "obj_coord = SkyCoord(ra=sky['ra'], dec=sky['dec'], unit='deg')\n",
    "frb_coord = SkyCoord(ra=frbs['ra'], dec=frbs['dec'], unit='deg')"
   ]
  },
  {
   "cell_type": "markdown",
   "metadata": {},
   "source": [
    "# n Prior"
   ]
  },
  {
   "cell_type": "code",
   "execution_count": 5,
   "metadata": {},
   "outputs": [],
   "source": [
    "theta_max = 5 * units.arcsec"
   ]
  },
  {
   "cell_type": "markdown",
   "metadata": {},
   "source": [
    "## One example"
   ]
  },
  {
   "cell_type": "code",
   "execution_count": 8,
   "metadata": {},
   "outputs": [],
   "source": [
    "ifrb = 0"
   ]
  },
  {
   "cell_type": "code",
   "execution_count": 11,
   "metadata": {},
   "outputs": [
    {
     "data": {
      "text/plain": [
       "2"
      ]
     },
     "execution_count": 11,
     "metadata": {},
     "output_type": "execute_result"
    }
   ],
   "source": [
    "cand_gal = frb_coord[ifrb].separation(obj_coord)  < theta_max\n",
    "np.sum(cand_gal)"
   ]
  },
  {
   "cell_type": "markdown",
   "metadata": {},
   "source": [
    "### $P(M_i)$"
   ]
  },
  {
   "cell_type": "code",
   "execution_count": null,
   "metadata": {},
   "outputs": [],
   "source": [
    "prior_Mi = "
   ]
  }
 ],
 "metadata": {
  "kernelspec": {
   "display_name": "Python 3",
   "language": "python",
   "name": "python3"
  },
  "language_info": {
   "codemirror_mode": {
    "name": "ipython",
    "version": 3
   },
   "file_extension": ".py",
   "mimetype": "text/x-python",
   "name": "python",
   "nbconvert_exporter": "python",
   "pygments_lexer": "ipython3",
   "version": "3.7.6"
  }
 },
 "nbformat": 4,
 "nbformat_minor": 4
}
