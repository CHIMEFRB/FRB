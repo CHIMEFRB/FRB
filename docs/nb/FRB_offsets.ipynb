{
 "cells": [
  {
   "cell_type": "code",
   "execution_count": 3,
   "metadata": {},
   "outputs": [],
   "source": [
    "# imports\n",
    "from pkg_resources import resource_filename\n",
    "from matplotlib import pyplot as plt\n",
    "import numpy as np\n",
    "\n",
    "from frb.galaxies import frbgalaxy\n",
    "from frb import frb\n",
    "\n",
    "from astropy.coordinates import SkyCoord\n",
    "from astropy import units\n",
    "from astropy.cosmology import Planck15\n",
    "\n",
    "from frb.galaxies import defs\n",
    "from frb import utils"
   ]
  },
  {
   "cell_type": "markdown",
   "metadata": {},
   "source": [
    "## Test for one FRB"
   ]
  },
  {
   "cell_type": "code",
   "execution_count": 4,
   "metadata": {},
   "outputs": [],
   "source": [
    "frb190611 = frb.FRB.by_name('FRB190611')\n",
    "HG190611 = frb190611.grab_host()"
   ]
  },
  {
   "cell_type": "code",
   "execution_count": null,
   "metadata": {},
   "outputs": [],
   "source": [
    "## Calculate offset"
   ]
  },
  {
   "cell_type": "code",
   "execution_count": 12,
   "metadata": {},
   "outputs": [
    {
     "data": {
      "text/plain": [
       "2.125146022568732"
      ]
     },
     "execution_count": 12,
     "metadata": {},
     "output_type": "execute_result"
    }
   ],
   "source": [
    "HG190611.coord.separation(frb190611.coord).to('arcsec').value\n",
    "sep = HG190611.coord.separation(frb190611.coord).to('arcsec').value\n",
    "sep"
   ]
  },
  {
   "cell_type": "code",
   "execution_count": 15,
   "metadata": {},
   "outputs": [],
   "source": [
    "a = np.sqrt(frb190611.eellipse['a_sys'] ** 2 + frb190611.eellipse['a'] ** 2)\n",
    "b = np.sqrt(frb190611.eellipse['b_sys'] ** 2 + frb190611.eellipse['b'] ** 2)\n",
    "sepx = sep+a # Distance in RA from FRB centroid to sigma_RA\n",
    "sepy = sep+b "
   ]
  },
  {
   "cell_type": "code",
   "execution_count": 19,
   "metadata": {},
   "outputs": [],
   "source": [
    "def gauss_2d(sep,sepx,sepy):\n",
    "    x = np.random.normal(sep,sepx,100)\n",
    "    y = np.random.normal(sep,sepy,100)\n",
    "    return (x,y)"
   ]
  },
  {
   "cell_type": "code",
   "execution_count": 20,
   "metadata": {},
   "outputs": [
    {
     "data": {
      "text/plain": [
       "(array([ 4.02245212e+00,  1.64730775e+00,  5.23916108e-01,  5.13648241e+00,\n",
       "         2.71682877e+00, -8.97097603e-01,  1.17834164e+00,  3.95878743e+00,\n",
       "         3.47014929e+00,  3.88014088e+00,  6.84856195e+00, -8.43476090e-01,\n",
       "         9.93411383e-01,  9.31623247e-01,  3.72300652e+00,  3.82638209e+00,\n",
       "        -4.66305004e-01, -3.85741855e-01,  1.80462224e+00,  1.08524538e+00,\n",
       "         1.99061763e+00,  1.66064938e+00,  5.04745203e+00,  2.60162446e+00,\n",
       "         5.89480182e+00,  1.61334181e-01, -1.11367364e-01, -3.01289629e+00,\n",
       "         4.93933185e+00, -4.38054419e+00,  8.92427485e-02, -2.57988726e-01,\n",
       "         1.33209649e+00, -2.34721015e+00,  2.54422534e+00,  9.35228962e-01,\n",
       "         4.44950004e+00,  1.64939894e+00, -4.86680825e-01, -5.78911793e-01,\n",
       "         6.89504511e+00,  1.01773950e+00,  6.38164263e+00,  2.20682421e+00,\n",
       "         1.08540406e+01,  1.32607252e+00,  4.76461595e+00, -4.41118177e-01,\n",
       "         6.02035291e+00,  4.74383358e+00,  1.39502423e+00,  5.63097034e+00,\n",
       "         2.44554438e+00,  3.05557339e+00, -5.26180179e-02,  1.78678684e+00,\n",
       "         1.87400940e+00, -3.54997302e+00,  2.50755608e-01,  8.13925995e-01,\n",
       "         2.50933858e+00,  6.27164285e+00, -2.78876765e+00,  4.43288682e+00,\n",
       "         2.23228819e+00,  1.33638776e+00,  3.22286658e+00,  3.20404419e-01,\n",
       "        -2.25311158e+00, -1.27399478e+00,  3.22393853e+00,  8.05180343e-01,\n",
       "         7.34240334e-03, -1.45460763e+00,  3.35844778e+00,  4.99251164e+00,\n",
       "         3.09419209e+00,  2.69798858e+00,  2.27092676e+00, -3.23041769e+00,\n",
       "         3.28403748e+00, -1.31129095e-01,  2.08447300e+00,  5.84590173e+00,\n",
       "        -2.51141278e+00,  3.50496234e+00,  2.24740604e+00,  3.85306120e+00,\n",
       "         1.61955626e+00,  2.71314238e+00,  2.61577138e+00,  4.65560184e-01,\n",
       "         5.85916037e+00,  4.59519964e+00,  2.84126064e+00,  3.46430601e+00,\n",
       "         2.61305978e+00,  4.78876931e+00,  4.38280514e-01,  3.76320053e+00]),\n",
       " array([ 4.77500207, -5.05701212,  2.17521344, -1.02334141, -6.85321367,\n",
       "         6.73990765, -4.28337851,  0.7360807 , -7.58795513,  4.58361328,\n",
       "         3.69563299,  2.35167991,  0.12419636,  5.94424292,  5.10789209,\n",
       "        -2.04821772, -1.04145598,  0.95588785,  4.08228309,  5.03600684,\n",
       "         0.85614495, -0.73863115,  7.16053704,  1.40122536,  9.1106599 ,\n",
       "         1.938166  ,  2.87773894, -0.57068149,  0.94974896,  0.4008675 ,\n",
       "         1.15325076,  0.14153683,  4.03585285,  3.65774907,  0.65009245,\n",
       "         7.94874836,  1.2337026 ,  1.74613536,  0.2734284 ,  0.47694727,\n",
       "         1.36264681,  8.36565292,  7.74737935, -1.03567944, -0.41810893,\n",
       "         4.84715971,  1.83375966,  4.55660654,  1.98795683,  5.54592366,\n",
       "         2.59624078,  1.69880657,  4.24481361,  2.62381114,  1.62260534,\n",
       "         2.58716831,  3.72631865,  1.67211514,  1.54194549,  5.09500646,\n",
       "         6.30454855,  5.77645278,  3.50641813,  2.91193102,  2.26009194,\n",
       "         0.17292298,  0.95232805,  0.01189492,  2.70555155,  3.31360403,\n",
       "         1.86139568,  4.33280983, -1.21487628,  2.15550972, -1.69676828,\n",
       "         6.65918309,  5.61056034, -0.22174125,  6.79612349,  0.39044677,\n",
       "        -0.83528615,  3.50306517,  7.22836179, -4.37288545, -0.59075909,\n",
       "         7.20455299,  1.04867424,  0.4340863 , -0.90325699, -5.0338882 ,\n",
       "         2.38841546,  2.30677481,  1.80764989, -1.1201941 ,  5.70155459,\n",
       "         6.19692036, -0.19859089,  5.57974949, -0.84430754,  2.49522218]))"
      ]
     },
     "execution_count": 20,
     "metadata": {},
     "output_type": "execute_result"
    }
   ],
   "source": [
    "gauss_2d(sep,sepx,sepy)"
   ]
  }
 ],
 "metadata": {
  "kernelspec": {
   "display_name": "Python 3",
   "language": "python",
   "name": "python3"
  },
  "language_info": {
   "codemirror_mode": {
    "name": "ipython",
    "version": 3
   },
   "file_extension": ".py",
   "mimetype": "text/x-python",
   "name": "python",
   "nbconvert_exporter": "python",
   "pygments_lexer": "ipython3",
   "version": "3.6.10"
  }
 },
 "nbformat": 4,
 "nbformat_minor": 2
}
