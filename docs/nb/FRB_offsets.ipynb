{
 "cells": [
  {
   "cell_type": "code",
   "execution_count": 3,
   "metadata": {},
   "outputs": [],
   "source": [
    "# imports\n",
    "from pkg_resources import resource_filename\n",
    "from matplotlib import pyplot as plt\n",
    "import numpy as np\n",
    "\n",
    "from frb.galaxies import frbgalaxy\n",
    "from frb import frb\n",
    "\n",
    "from astropy.coordinates import SkyCoord\n",
    "from astropy import units\n",
    "from astropy.cosmology import Planck15\n",
    "\n",
    "from frb.galaxies import defs\n",
    "from frb import utils"
   ]
  },
  {
   "cell_type": "markdown",
   "metadata": {},
   "source": [
    "## Test \"MC\" approach for one FRB"
   ]
  },
  {
   "cell_type": "code",
   "execution_count": 4,
   "metadata": {},
   "outputs": [],
   "source": [
    "frb190611 = frb.FRB.by_name('FRB190611')\n",
    "HG190611 = frb190611.grab_host()"
   ]
  },
  {
   "cell_type": "code",
   "execution_count": 3,
   "metadata": {},
   "outputs": [],
   "source": [
    "## Calculate offset"
   ]
  },
  {
   "cell_type": "code",
   "execution_count": 7,
   "metadata": {},
   "outputs": [
    {
     "data": {
      "text/plain": [
       "2.125146022568732"
      ]
     },
     "execution_count": 7,
     "metadata": {},
     "output_type": "execute_result"
    }
   ],
   "source": [
    "HG190611.coord.separation(frb190611.coord).to('arcsec').value\n",
    "sep = HG190611.coord.separation(frb190611.coord).to('arcsec').value\n",
    "sep"
   ]
  },
  {
   "cell_type": "code",
   "execution_count": 8,
   "metadata": {},
   "outputs": [],
   "source": [
    "a = np.sqrt(frb190611.eellipse['a_sys'] ** 2 + frb190611.eellipse['a'] ** 2)\n",
    "b = np.sqrt(frb190611.eellipse['b_sys'] ** 2 + frb190611.eellipse['b'] ** 2)\n",
    "sepx = sep+a # Distance in RA from FRB centroid to sigma_RA\n",
    "sepy = sep+b "
   ]
  },
  {
   "cell_type": "code",
   "execution_count": 6,
   "metadata": {},
   "outputs": [
    {
     "data": {
      "text/plain": [
       "(0.8062257748298549, 0.7615773105863908)"
      ]
     },
     "execution_count": 6,
     "metadata": {},
     "output_type": "execute_result"
    }
   ],
   "source": [
    "a,b"
   ]
  },
  {
   "cell_type": "code",
   "execution_count": 9,
   "metadata": {},
   "outputs": [],
   "source": [
    "def gauss_2d(sep,sepx,sepy):\n",
    "    x = np.random.normal(sep,sepx,100)\n",
    "    y = np.random.normal(sep,sepy,100)\n",
    "    return (x,y)"
   ]
  },
  {
   "cell_type": "code",
   "execution_count": 8,
   "metadata": {
    "scrolled": true
   },
   "outputs": [
    {
     "data": {
      "text/plain": [
       "(array([-6.62125599, -0.55594677,  9.92026239,  0.61836423,  2.54594503,\n",
       "         2.93064077, -0.06006588,  1.18818203, -1.54032242,  4.33835436,\n",
       "         1.30869127,  4.54656407, -1.07669623, -0.57088049,  4.94722105,\n",
       "        -3.82901607,  4.41836284,  2.48944812,  0.01709384,  0.33066967,\n",
       "         2.16323879,  5.2470631 ,  4.82940504,  2.7454057 ,  3.1267222 ,\n",
       "         2.39641153,  3.83833941,  9.83101354,  4.6089929 ,  0.57035573,\n",
       "         2.41451974,  3.06306603,  3.89139845,  2.15889117,  7.01454915,\n",
       "         1.38981961,  3.33255831,  1.19263614,  1.76317286, -3.1085473 ,\n",
       "        -0.43545292, -0.50981495,  4.50549353, -4.08990936,  5.00714921,\n",
       "         3.96723744,  3.01891182,  0.85555526, -0.23652916,  4.32160289,\n",
       "        -2.66077716,  4.26552174,  2.13136448,  4.72244019, -3.84611368,\n",
       "        -3.14710562, -0.06279359,  0.75645993,  4.0423896 ,  2.88168818,\n",
       "        -1.74584639,  2.5410068 ,  3.63438735, -0.27913614,  0.71588453,\n",
       "         3.30447273,  8.11001009, -3.56534719,  4.97282407,  1.62634887,\n",
       "         1.69686388, -1.94768424,  0.97866187,  4.8350245 ,  3.85184304,\n",
       "         9.8574723 ,  1.58349311,  0.37481932,  6.24138541,  0.52063354,\n",
       "         2.73847236,  5.22168126, -1.62627163, -2.01351714, -3.10687897,\n",
       "         2.9813317 ,  0.12509687, -1.1811565 ,  9.38303847,  1.36822793,\n",
       "        -0.57342688, -1.78634615,  3.7801684 ,  5.23637805,  7.00248477,\n",
       "        -1.11742147, -0.98748257, -1.62460897, -3.1992867 ,  1.55298617]),\n",
       " array([ 9.44188547, -1.40157623,  4.34075227,  0.65954733,  5.53462518,\n",
       "         5.6953547 ,  0.39633022,  3.34655369,  3.63450766,  0.77394147,\n",
       "         2.11152769,  8.34677661,  4.38592688,  4.11101416,  1.40637105,\n",
       "         2.71199649,  4.95551665,  4.2383753 ,  3.31402335,  0.86134449,\n",
       "         1.56106507,  7.29424566, -3.29266462, -2.19625577,  4.76991799,\n",
       "        -3.20561409,  3.01872289,  3.22224883,  0.14985823,  5.10531843,\n",
       "        -0.68103273, -0.3814964 ,  2.3033916 ,  3.0104351 ,  6.86862234,\n",
       "        -0.36029568,  7.59237927,  0.39316178,  3.59109672,  0.24269639,\n",
       "         3.8116288 , -2.07736703, -0.96682152,  0.4349701 ,  2.06308956,\n",
       "         3.49134832, -0.63522572, -1.20329418,  1.40797492,  4.83643772,\n",
       "         1.00745295,  4.36663528,  4.61844489,  0.0871769 ,  8.57974937,\n",
       "        -0.90817028,  1.5060185 ,  0.94542657,  2.53129629,  1.93430409,\n",
       "         0.2347815 ,  3.4936565 ,  4.92843022,  1.08496762,  5.85811258,\n",
       "         1.05750414, -1.40451544, -1.42264885, -1.49496509,  5.76905393,\n",
       "         2.57943227, 10.31158872,  4.60315023,  2.50517554,  3.2377305 ,\n",
       "         1.34852518,  6.93778464,  7.51583714,  5.58655017,  0.65068754,\n",
       "         5.88353489,  1.90692086,  3.67117386,  2.43529201,  4.15717369,\n",
       "         4.81056365,  1.4491381 , -1.35201118,  0.62027302,  4.3394511 ,\n",
       "         6.46160497,  0.50327983,  4.79874449,  1.36525045,  0.46171939,\n",
       "         2.20174036,  5.37951501,  3.16314937,  3.63428611,  0.82032559]))"
      ]
     },
     "execution_count": 8,
     "metadata": {},
     "output_type": "execute_result"
    }
   ],
   "source": [
    "gauss_2d(sep,sepx,sepy)"
   ]
  },
  {
   "cell_type": "markdown",
   "metadata": {},
   "source": [
    "## Try instead to make a grid of points from a 2D gaussian"
   ]
  },
  {
   "cell_type": "code",
   "execution_count": 274,
   "metadata": {},
   "outputs": [],
   "source": [
    "frb190611coord = frb190611.coord\n",
    "hgcoord = HG190611.coord\n",
    "frb_ra = frb190611coord.ra.value\n",
    "frb_dec = frb190611coord.dec.value\n",
    "theta = frb190611.eellipse['theta'] * units.deg # Include PA of ellipse\n",
    "x = np.linspace(frb_ra-(a/3600), frb_ra+(a/3600), 1000)\n",
    "y = np.linspace(frb_dec-(b/3600), frb_dec+(b/3600), 1000)"
   ]
  },
  {
   "cell_type": "code",
   "execution_count": 275,
   "metadata": {},
   "outputs": [
    {
     "name": "stdout",
     "output_type": "stream",
     "text": [
      "[[320.74523438 320.74523483 320.74523528 ... 320.74568139 320.74568184\n",
      "  320.74568228]\n",
      " [320.74523438 320.74523483 320.74523528 ... 320.74568139 320.74568184\n",
      "  320.74568228]\n",
      " [320.74523438 320.74523483 320.74523528 ... 320.74568139 320.74568184\n",
      "  320.74568228]\n",
      " ...\n",
      " [320.74523438 320.74523483 320.74523528 ... 320.74568139 320.74568184\n",
      "  320.74568228]\n",
      " [320.74523438 320.74523483 320.74523528 ... 320.74568139 320.74568184\n",
      "  320.74568228]\n",
      " [320.74523438 320.74523483 320.74523528 ... 320.74568139 320.74568184\n",
      "  320.74568228]] [[-79.39779488 -79.39779488 -79.39779488 ... -79.39779488 -79.39779488\n",
      "  -79.39779488]\n",
      " [-79.39779446 -79.39779446 -79.39779446 ... -79.39779446 -79.39779446\n",
      "  -79.39779446]\n",
      " [-79.39779404 -79.39779404 -79.39779404 ... -79.39779404 -79.39779404\n",
      "  -79.39779404]\n",
      " ...\n",
      " [-79.39737263 -79.39737263 -79.39737263 ... -79.39737263 -79.39737263\n",
      "  -79.39737263]\n",
      " [-79.39737221 -79.39737221 -79.39737221 ... -79.39737221 -79.39737221\n",
      "  -79.39737221]\n",
      " [-79.39737178 -79.39737178 -79.39737178 ... -79.39737178 -79.39737178\n",
      "  -79.39737178]]\n"
     ]
    }
   ],
   "source": [
    "xx,yy = np.meshgrid(x,y) # Generate grid points\n",
    "print(xx,yy)"
   ]
  },
  {
   "cell_type": "code",
   "execution_count": 276,
   "metadata": {},
   "outputs": [
    {
     "name": "stdout",
     "output_type": "stream",
     "text": [
      "[[2.5382866  2.53847366 2.53866073 ... 2.73445878 2.73466457 2.73487038]\n",
      " [2.53710253 2.53728967 2.53747684 ... 2.7333597  2.73356558 2.73377147]\n",
      " [2.53591882 2.53610605 2.5362933  ... 2.73226103 2.73246699 2.73267296]\n",
      " ...\n",
      " [1.66123731 1.66152312 1.66180894 ... 1.9478491  1.94813799 1.9484269 ]\n",
      " [1.66082363 1.66110951 1.6613954  ... 1.94749631 1.94778526 1.94807421]\n",
      " [1.66041125 1.6606972  1.66098315 ... 1.94714465 1.94743365 1.94772266]]\n"
     ]
    }
   ],
   "source": [
    "sky_mesh = utils.radec_to_coord((xx,yy)) # Turn the individual RA and Dex (x and y) in combined coordinate\n",
    "ang_diff = hgcoord.separation(sky_mesh) # Measure the offset from host to each point\n",
    "print(ang_diff.to('arcsec').value)"
   ]
  },
  {
   "cell_type": "code",
   "execution_count": 277,
   "metadata": {},
   "outputs": [],
   "source": [
    "# Define points to be within ellipse, rotated by theta if relevant\n",
    "in_ellipse = ((xx - frb_ra) * np.cos(theta).value + (yy - frb_dec) * np.sin(theta).value) ** 2 / (\n",
    "                (a/3600) ** 2) + ((xx - frb_ra) * np.sin(theta).value - (yy - frb_dec) * np.cos(theta).value) ** 2 / (\n",
    "                             (b/3600) ** 2) <= 1"
   ]
  },
  {
   "cell_type": "code",
   "execution_count": 278,
   "metadata": {},
   "outputs": [
    {
     "data": {
      "text/plain": [
       "array([[False, False, False, ..., False, False, False],\n",
       "       [False, False, False, ..., False, False, False],\n",
       "       [False, False, False, ..., False, False, False],\n",
       "       ...,\n",
       "       [False, False, False, ..., False, False, False],\n",
       "       [False, False, False, ..., False, False, False],\n",
       "       [False, False, False, ..., False, False, False]])"
      ]
     },
     "execution_count": 278,
     "metadata": {},
     "output_type": "execute_result"
    }
   ],
   "source": [
    "in_ellipse"
   ]
  },
  {
   "cell_type": "code",
   "execution_count": 279,
   "metadata": {},
   "outputs": [
    {
     "data": {
      "text/plain": [
       "<SkyCoord (ICRS): (ra, dec) in deg\n",
       "    (320.74545833, -79.39758333)>"
      ]
     },
     "execution_count": 279,
     "metadata": {},
     "output_type": "execute_result"
    }
   ],
   "source": [
    "frb190611coord"
   ]
  },
  {
   "cell_type": "code",
   "execution_count": 280,
   "metadata": {},
   "outputs": [
    {
     "data": {
      "text/plain": [
       "[<matplotlib.lines.Line2D at 0x7fd9b63b1710>]"
      ]
     },
     "execution_count": 280,
     "metadata": {},
     "output_type": "execute_result"
    },
    {
     "data": {
      "image/png": "[encoded data removed]",
      "text/plain": [
       "<Figure size 432x288 with 1 Axes>"
      ]
     },
     "metadata": {
      "needs_background": "light"
     },
     "output_type": "display_data"
    }
   ],
   "source": [
    "# Plot grid points \n",
    "plt.plot(xx[in_ellipse], yy[in_ellipse])"
   ]
  },
  {
   "cell_type": "code",
   "execution_count": 281,
   "metadata": {},
   "outputs": [
    {
     "data": {
      "text/plain": [
       "array([[6.01790761, 6.01890554, 6.01990349, ..., 7.02131836, 7.02233209,\n",
       "        7.02334583],\n",
       "       [6.01740826, 6.01840628, 6.01940432, ..., 7.02089039, 7.02190417,\n",
       "        7.02291798],\n",
       "       [6.01690927, 6.01790737, 6.01890549, ..., 7.02046271, 7.02147657,\n",
       "        7.02249043],\n",
       "       ...,\n",
       "       [5.70367617, 5.70472907, 5.70578198, ..., 6.75393378, 6.75498763,\n",
       "        6.75604148],\n",
       "       [5.70355569, 5.70460861, 5.70566154, ..., 6.75383203, 6.7548859 ,\n",
       "        6.75593977],\n",
       "       [5.70343561, 5.70448856, 5.70554151, ..., 6.75373062, 6.75478451,\n",
       "        6.7558384 ]])"
      ]
     },
     "execution_count": 281,
     "metadata": {},
     "output_type": "execute_result"
    }
   ],
   "source": [
    "# Trying something else, doesn't seem to work\n",
    "hgcoord = HG190611.coord\n",
    "hg_ra = hgcoord.ra.value\n",
    "hg_dec = hgcoord.dec.value\n",
    "\n",
    "#for i in np.arange(np.shape(xx[in_ellipse])):\n",
    "x_diff = (hg_ra - xx) * np.cos(hg_dec)\n",
    "y_diff = hg_dec - yy    \n",
    "\n",
    "ang_off = np.sqrt(x_diff**2 + y_diff**2)\n",
    "ang_off*3600\n",
    "\n"
   ]
  },
  {
   "cell_type": "code",
   "execution_count": 282,
   "metadata": {},
   "outputs": [],
   "source": [
    "#Generate an analytical 2d gaussian\n",
    "def gauss_2da(x,y, sma, smb):\n",
    "    \n",
    "    e_x = 1/(sma*np.sqrt(2*np.pi)) * np.exp(-(x-frb_ra)**2 / (2 * sma**2))\n",
    "    e_y = 1/(smb*np.sqrt(2*np.pi)) * np.exp(-(y-frb_dec)**2 / (2 * smb**2))\n",
    "    \n",
    "    print(np.shape(e_x))\n",
    "    w = e_x * e_y\n",
    "    return w"
   ]
  },
  {
   "cell_type": "code",
   "execution_count": 307,
   "metadata": {
    "scrolled": true
   },
   "outputs": [
    {
     "name": "stdout",
     "output_type": "stream",
     "text": [
      "(1000, 1000)\n",
      "1.0000000000000004\n"
     ]
    },
    {
     "data": {
      "text/plain": [
       "<matplotlib.image.AxesImage at 0x7fd9bfe2e518>"
      ]
     },
     "execution_count": 307,
     "metadata": {},
     "output_type": "execute_result"
    },
    {
     "data": {
      "image/png": "[encoded data removed]",
      "text/plain": [
       "<Figure size 432x288 with 1 Axes>"
      ]
     },
     "metadata": {
      "needs_background": "light"
     },
     "output_type": "display_data"
    }
   ],
   "source": [
    "# Define weight scheme, using the grid points xx and yy and the sigma RA and Dec (a and b) in degs\n",
    "w = gauss_2da(xx, yy, (a/3600), (b/3600)\n",
    "w[~in_ellipse] = 0\n",
    "\n",
    "# Normalize w\n",
    "norm_w = w / np.sum(w)\n",
    "print(np.sum(norm_w)) \n",
    "plt.imshow(norm_w)"
   ]
  },
  {
   "cell_type": "code",
   "execution_count": 308,
   "metadata": {},
   "outputs": [
    {
     "data": {
      "image/png": "[encoded data removed]",
      "text/plain": [
       "<Figure size 720x720 with 2 Axes>"
      ]
     },
     "metadata": {
      "needs_background": "light"
     },
     "output_type": "display_data"
    }
   ],
   "source": [
    "from mpl_toolkits.mplot3d import Axes3D  \n",
    "from matplotlib import cm\n",
    "from matplotlib.ticker import LinearLocator, FormatStrFormatter\n",
    "\n",
    "\n",
    "fig = plt.figure(figsize=(10,10))\n",
    "ax = fig.gca(projection='3d')\n",
    "\n",
    "surf = ax.plot_surface(xx, yy, norm_w, cmap=cm.coolwarm, linewidth=0, antialiased=False)\n",
    "\n",
    "#ax.set_zlim(-5e-6, 5e-6)\n",
    "ax.zaxis.set_major_locator(LinearLocator(10))\n",
    "ax.zaxis.set_major_formatter(FormatStrFormatter('%.02f'))\n",
    "\n",
    "# Add a color bar which maps values to colors.\n",
    "fig.colorbar(surf, shrink=0.5, aspect=5)\n",
    "\n",
    "plt.show()"
   ]
  },
  {
   "cell_type": "code",
   "execution_count": 309,
   "metadata": {},
   "outputs": [
    {
     "name": "stdout",
     "output_type": "stream",
     "text": [
      "2.1488147608635653\n"
     ]
    }
   ],
   "source": [
    "# Calculate average offset (should be close to 2.1'')\n",
    "mean = np.sum(norm_w * ang_diff) #/ np.sum(norm_w) \n",
    "mean_ang = mean.to('arcsec').value\n",
    "print(mean_ang)"
   ]
  },
  {
   "cell_type": "code",
   "execution_count": 310,
   "metadata": {},
   "outputs": [
    {
     "name": "stdout",
     "output_type": "stream",
     "text": [
      "0.222103058641103\n"
     ]
    }
   ],
   "source": [
    "# Calculate SD from that (error on offset assuming sqrt(sigma_RA^2 + sigma_Dec^2) = 1.1, which seems more sensible for 190611)\n",
    "sd = np.sqrt(np.sum((ang_diff-mean)**2 * norm_w))\n",
    "print(sd.to('arcsec').value)"
   ]
  },
  {
   "cell_type": "code",
   "execution_count": null,
   "metadata": {},
   "outputs": [],
   "source": []
  },
  {
   "cell_type": "code",
   "execution_count": null,
   "metadata": {},
   "outputs": [],
   "source": []
  },
  {
   "cell_type": "code",
   "execution_count": null,
   "metadata": {},
   "outputs": [],
   "source": []
  },
  {
   "cell_type": "code",
   "execution_count": null,
   "metadata": {},
   "outputs": [],
   "source": []
  },
  {
   "cell_type": "code",
   "execution_count": null,
   "metadata": {},
   "outputs": [],
   "source": []
  }
 ],
 "metadata": {
  "kernelspec": {
   "display_name": "Python 3",
   "language": "python",
   "name": "python3"
  },
  "language_info": {
   "codemirror_mode": {
    "name": "ipython",
    "version": 3
   },
   "file_extension": ".py",
   "mimetype": "text/x-python",
   "name": "python",
   "nbconvert_exporter": "python",
   "pygments_lexer": "ipython3",
   "version": "3.6.10"
  }
 },
 "nbformat": 4,
 "nbformat_minor": 2
}
