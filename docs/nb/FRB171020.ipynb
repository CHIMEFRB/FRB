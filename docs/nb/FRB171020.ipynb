{
 "cells": [
  {
   "cell_type": "markdown",
   "metadata": {},
   "source": [
    "# A few calculations for FRB 171020"
   ]
  },
  {
   "cell_type": "code",
   "execution_count": 9,
   "metadata": {},
   "outputs": [],
   "source": [
    "# imports\n",
    "import numpy as np\n",
    "from astropy import units as u\n",
    "\n",
    "from ne2001 import density\n",
    "from ne2001.density import NEobject\n",
    "\n",
    "from pyigm.cgm.models import ModifiedNFW, MB04, YF17"
   ]
  },
  {
   "cell_type": "markdown",
   "metadata": {},
   "source": [
    "## Coords"
   ]
  },
  {
   "cell_type": "code",
   "execution_count": 8,
   "metadata": {
    "collapsed": true
   },
   "outputs": [],
   "source": [
    "FRB_l = 36.4\n",
    "FRB_b = -53.6"
   ]
  },
  {
   "cell_type": "markdown",
   "metadata": {},
   "source": [
    "## $\\rm DM_{\\rm disk}$"
   ]
  },
  {
   "cell_type": "markdown",
   "metadata": {},
   "source": [
    "### ne2001"
   ]
  },
  {
   "cell_type": "code",
   "execution_count": 6,
   "metadata": {
    "collapsed": true
   },
   "outputs": [],
   "source": [
    "ne = density.ElectronDensity()#**PARAMS)"
   ]
  },
  {
   "cell_type": "code",
   "execution_count": 9,
   "metadata": {},
   "outputs": [
    {
     "data": {
      "text/latex": [
       "$37.420666 \\; \\mathrm{\\frac{pc}{cm^{3}}}$"
      ],
      "text/plain": [
       "<Quantity 37.42066624 pc / cm3>"
      ]
     },
     "execution_count": 9,
     "metadata": {},
     "output_type": "execute_result"
    }
   ],
   "source": [
    "DM_disk = ne.DM(FRB_l, FRB_b, 100.)\n",
    "DM_disk"
   ]
  },
  {
   "cell_type": "markdown",
   "metadata": {},
   "source": [
    "## $\\rm DM_{\\rm halo}$"
   ]
  },
  {
   "cell_type": "markdown",
   "metadata": {},
   "source": [
    "### Halo properties"
   ]
  },
  {
   "cell_type": "code",
   "execution_count": 10,
   "metadata": {
    "collapsed": true
   },
   "outputs": [],
   "source": [
    "Mhalo = np.log10(1.5e12)\n",
    "f_hot = 0.75  # Allows for disk + ISM\n",
    "c = 7.7"
   ]
  },
  {
   "cell_type": "markdown",
   "metadata": {},
   "source": [
    "### Model"
   ]
  },
  {
   "cell_type": "code",
   "execution_count": 16,
   "metadata": {},
   "outputs": [
    {
     "name": "stdout",
     "output_type": "stream",
     "text": [
      "rhoV normalized to 0.00017228356281820233 1 / cm3 to give M_b=240000000000.00006 solMass\n"
     ]
    },
    {
     "data": {
      "text/latex": [
       "$66.099776 \\; \\mathrm{\\frac{pc}{cm^{3}}}$"
      ],
      "text/plain": [
       "<Quantity 66.09977627 pc / cm3>"
      ]
     },
     "execution_count": 16,
     "metadata": {},
     "output_type": "execute_result"
    }
   ],
   "source": [
    "# MB\n",
    "mb04 = MB04(log_Mhalo=Mhalo, f_hot=f_hot, c=c)\n",
    "DM_halo = mb04.Ne_Rperp(8*u.kpc)\n",
    "DM_halo/2  # Only get 1/2 for our Galaxy"
   ]
  },
  {
   "cell_type": "markdown",
   "metadata": {},
   "source": [
    "## $\\rm DM_{\\rm host}$ -- This is Halo gas only"
   ]
  },
  {
   "cell_type": "code",
   "execution_count": 13,
   "metadata": {
    "collapsed": true
   },
   "outputs": [],
   "source": [
    "Mhost = np.log10(1e10)\n",
    "f_hot_host = 0.5  # Allows for 50% blow-out\n",
    "c = 7.7"
   ]
  },
  {
   "cell_type": "code",
   "execution_count": 15,
   "metadata": {},
   "outputs": [
    {
     "name": "stdout",
     "output_type": "stream",
     "text": [
      "rhoV normalized to 7.048521943833164e-05 1 / cm3 to give M_b=1600000000.0 solMass\n"
     ]
    },
    {
     "data": {
      "text/latex": [
       "$9.769291 \\; \\mathrm{\\frac{pc}{cm^{3}}}$"
      ],
      "text/plain": [
       "<Quantity 9.76929103 pc / cm3>"
      ]
     },
     "execution_count": 15,
     "metadata": {},
     "output_type": "execute_result"
    }
   ],
   "source": [
    "mb04_host = MB04(log_Mhalo=Mhost, f_hot=f_hot_host, c=c)\n",
    "DM_host = mb04_host.Ne_Rperp(1*u.kpc)\n",
    "DM_host/2  # Only get 1/2"
   ]
  },
  {
   "cell_type": "code",
   "execution_count": null,
   "metadata": {
    "collapsed": true
   },
   "outputs": [],
   "source": []
  }
 ],
 "metadata": {
  "kernelspec": {
   "display_name": "Python 3",
   "language": "python",
   "name": "python3"
  },
  "language_info": {
   "codemirror_mode": {
    "name": "ipython",
    "version": 3
   },
   "file_extension": ".py",
   "mimetype": "text/x-python",
   "name": "python",
   "nbconvert_exporter": "python",
   "pygments_lexer": "ipython3",
   "version": "3.6.5"
  }
 },
 "nbformat": 4,
 "nbformat_minor": 2
}
