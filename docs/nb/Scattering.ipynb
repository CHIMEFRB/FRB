{
 "cells": [
  {
   "cell_type": "markdown",
   "metadata": {},
   "source": [
    "# Scattering"
   ]
  },
  {
   "cell_type": "code",
   "execution_count": 12,
   "metadata": {},
   "outputs": [],
   "source": [
    "# imports\n",
    "from importlib import reload\n",
    "from astropy import units\n",
    "\n",
    "from frb import turb_scattering\n",
    "from frb import frb"
   ]
  },
  {
   "cell_type": "markdown",
   "metadata": {},
   "source": [
    "# X+19"
   ]
  },
  {
   "cell_type": "code",
   "execution_count": 7,
   "metadata": {},
   "outputs": [],
   "source": [
    "frb181112 = frb.FRB.by_name('FRB181112')\n",
    "hg181112 = frb181112.grab_host()"
   ]
  },
  {
   "cell_type": "code",
   "execution_count": 16,
   "metadata": {},
   "outputs": [],
   "source": [
    "tau_scatt = 40 * 1e-6 * units.s\n",
    "z_FRB = frb181112.z\n",
    "zL = 0.36738\n",
    "L = 50 * units.kpc\n",
    "L0 = 1 * units.kpc\n",
    "nu_obs = 1 * units.GHz"
   ]
  },
  {
   "cell_type": "code",
   "execution_count": 17,
   "metadata": {},
   "outputs": [],
   "source": [
    "reload(turb_scattering)\n",
    "n_e = turb_scattering.kolmogorov_estimate(tau_scatt, z_FRB, zL, L, L0, nu_obs)"
   ]
  },
  {
   "cell_type": "code",
   "execution_count": 18,
   "metadata": {},
   "outputs": [
    {
     "data": {
      "text/latex": [
       "$0.002 \\; \\mathrm{}$"
      ],
      "text/plain": [
       "<Quantity 0.002>"
      ]
     },
     "execution_count": 18,
     "metadata": {},
     "output_type": "execute_result"
    }
   ],
   "source": [
    "n_e"
   ]
  },
  {
   "cell_type": "markdown",
   "metadata": {},
   "source": [
    "# Ravi+19 -- putative"
   ]
  },
  {
   "cell_type": "code",
   "execution_count": 19,
   "metadata": {},
   "outputs": [],
   "source": [
    "tau_scatt = 1.4 * 1e-3 * units.s\n",
    "z_FRB = 0.66\n",
    "zL = 0.363\n",
    "L = 50 * units.kpc\n",
    "L0 = 1 * units.kpc\n",
    "nu_obs = 1 * units.GHz"
   ]
  },
  {
   "cell_type": "code",
   "execution_count": 20,
   "metadata": {},
   "outputs": [],
   "source": [
    "n_e = turb_scattering.kolmogorov_estimate(tau_scatt, z_FRB, zL, L, L0, nu_obs)"
   ]
  },
  {
   "cell_type": "code",
   "execution_count": 21,
   "metadata": {},
   "outputs": [
    {
     "data": {
      "text/latex": [
       "$0.011643651 \\; \\mathrm{}$"
      ],
      "text/plain": [
       "<Quantity 0.01164365>"
      ]
     },
     "execution_count": 21,
     "metadata": {},
     "output_type": "execute_result"
    }
   ],
   "source": [
    "n_e"
   ]
  },
  {
   "cell_type": "code",
   "execution_count": null,
   "metadata": {},
   "outputs": [],
   "source": []
  }
 ],
 "metadata": {
  "kernelspec": {
   "display_name": "Python 3",
   "language": "python",
   "name": "python3"
  },
  "language_info": {
   "codemirror_mode": {
    "name": "ipython",
    "version": 3
   },
   "file_extension": ".py",
   "mimetype": "text/x-python",
   "name": "python",
   "nbconvert_exporter": "python",
   "pygments_lexer": "ipython3",
   "version": "3.7.3"
  }
 },
 "nbformat": 4,
 "nbformat_minor": 2
}
