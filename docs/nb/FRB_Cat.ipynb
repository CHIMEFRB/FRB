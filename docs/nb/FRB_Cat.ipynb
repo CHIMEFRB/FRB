{
 "cells": [
  {
   "cell_type": "markdown",
   "metadata": {},
   "source": [
    "# Reading FRB Cat [v1.0]"
   ]
  },
  {
   "cell_type": "code",
   "execution_count": 24,
   "metadata": {
    "collapsed": false
   },
   "outputs": [],
   "source": [
    "# imports\n",
    "from imp import reload\n",
    "\n",
    "from astropy.table import Table\n",
    "\n",
    "from frb import frbcat as ffcat\n",
    "from frb import experiment"
   ]
  },
  {
   "cell_type": "markdown",
   "metadata": {},
   "source": [
    "## Load"
   ]
  },
  {
   "cell_type": "code",
   "execution_count": 25,
   "metadata": {
    "collapsed": false
   },
   "outputs": [
    {
     "name": "stdout",
     "output_type": "stream",
     "text": [
      "Using /home/xavier/local/Python/FRB/frb/data/FRBs/frbcat_2017-04-06.csv for the FRB catalog\n"
     ]
    },
    {
     "data": {
      "text/plain": [
       "<FRBCat:  FRB Catalog with 21 sources\n",
       ">"
      ]
     },
     "execution_count": 25,
     "metadata": {},
     "output_type": "execute_result"
    }
   ],
   "source": [
    "reload(ffcat)\n",
    "obs = ffcat.FRBCat()\n",
    "obs"
   ]
  },
  {
   "cell_type": "code",
   "execution_count": 26,
   "metadata": {
    "collapsed": false
   },
   "outputs": [
    {
     "data": {
      "text/html": [
       "&lt;Table masked=True length=5&gt;\n",
       "<table id=\"table139678772828312\" class=\"table-striped table-bordered table-condensed\">\n",
       "<thead><tr><th>Name</th><th>Telescope</th><th>Type</th><th>UTC</th><th>Beam</th><th>Receiver</th><th>Backend</th><th>RAJ</th><th>DECJ</th><th>Pointing Error</th><th>FWHM</th><th>Sampling Time</th><th>Bandwidth</th><th>Centre Frequnecy</th><th>Bits per Sample</th><th>Gain</th><th>System Temperature</th><th>NE2001 DM Limit</th><th>DM</th><th>DM error</th><th>SNR</th><th>Width</th><th>Width error lower</th><th>Width error upper</th><th>Flux</th><th>Flux error lower</th><th>Flux error upper</th><th>DM Index</th><th>DM Index Error</th><th>Scattering Index</th><th>Scattering Index Error</th><th>Scattering Time</th><th>Scattering Time Error</th><th>Linear Polarization Fraction</th><th>Linear Polarization Fraction Error</th><th>Circular Polarization Fraction</th><th>Circular Polarization Fraction Error</th><th>Photometric Redshift</th><th>Photometric Redshift Error</th><th>Spectroscopic Redshift</th><th>Spectroscopic Redshift Error</th><th>Reference</th></tr></thead>\n",
       "<thead><tr><th>str9</th><th>str7</th><th>str5</th><th>str19</th><th>int64</th><th>str6</th><th>str18</th><th>str8</th><th>str9</th><th>int64</th><th>float64</th><th>float64</th><th>float64</th><th>int64</th><th>int64</th><th>float64</th><th>float64</th><th>float64</th><th>float64</th><th>float64</th><th>float64</th><th>float64</th><th>float64</th><th>float64</th><th>float64</th><th>float64</th><th>float64</th><th>float64</th><th>float64</th><th>float64</th><th>float64</th><th>float64</th><th>float64</th><th>float64</th><th>float64</th><th>int64</th><th>float64</th><th>float64</th><th>float64</th><th>float64</th><th>float64</th><th>str97</th></tr></thead>\n",
       "<tr><td>FRB010125</td><td>parkes</td><td>radio</td><td>2001-01-25 00:29:14</td><td>5</td><td>MB20</td><td>AFB</td><td>19:06:53</td><td>-40:37:14</td><td>11</td><td>15.0</td><td>0.125</td><td>288.0</td><td>--</td><td>1</td><td>0.69</td><td>28.0</td><td>110.0</td><td>790.0</td><td>3.0</td><td>17.0</td><td>9.4</td><td>0.2</td><td>0.2</td><td>0.3</td><td>--</td><td>--</td><td>2.0</td><td>0.01</td><td>-4.2</td><td>1.2</td><td>--</td><td>--</td><td>--</td><td>--</td><td>--</td><td>--</td><td>--</td><td>--</td><td>--</td><td>--</td><td>Burke-Spolaor S., Bannister K. W., 2014, ApJ, 792, 19</td></tr>\n",
       "<tr><td>FRB010125</td><td>parkes</td><td>radio</td><td>2001-01-25 00:29:14</td><td>5</td><td>MB20</td><td>AFB</td><td>19:06:53</td><td>-40:37:14</td><td>11</td><td>15.0</td><td>0.125</td><td>288.0</td><td>--</td><td>1</td><td>0.69</td><td>28.0</td><td>110.0</td><td>790.3</td><td>3.0</td><td>25.0</td><td>10.6</td><td>2.5</td><td>2.8</td><td>0.54</td><td>0.07</td><td>0.11</td><td>--</td><td>--</td><td>--</td><td>--</td><td>--</td><td>--</td><td>--</td><td>--</td><td>--</td><td>--</td><td>--</td><td>--</td><td>--</td><td>--</td><td>Burke-Spolaor S., Bannister K. W., 2014, ApJ, 792, 19</td></tr>\n",
       "<tr><td>FRB010621</td><td>parkes</td><td>radio</td><td>2001-06-21 13:02:09</td><td>10</td><td>MB20</td><td>AFB</td><td>18:52:05</td><td>-08:29:35</td><td>11</td><td>15.0</td><td>0.25</td><td>288.0</td><td>--</td><td>1</td><td>0.581</td><td>28.0</td><td>523.0</td><td>748.0</td><td>3.0</td><td>18.0</td><td>8.0</td><td>2.25</td><td>4.0</td><td>0.53</td><td>0.09</td><td>0.26</td><td>--</td><td>--</td><td>--</td><td>--</td><td>--</td><td>--</td><td>--</td><td>--</td><td>--</td><td>--</td><td>--</td><td>--</td><td>--</td><td>--</td><td>Keane E. F., Kramer M., Lyne A. G., Stappers B. W., McLaughlin M. A., 2011, MNRAS, 415, 3065</td></tr>\n",
       "<tr><td>FRB010621</td><td>parkes</td><td>radio</td><td>2001-06-21 13:02:09</td><td>10</td><td>MB20</td><td>AFB</td><td>18:52:05</td><td>-08:29:35</td><td>11</td><td>15.0</td><td>0.25</td><td>288.0</td><td>--</td><td>1</td><td>0.581</td><td>28.0</td><td>523.0</td><td>745.0</td><td>10.0</td><td>--</td><td>7.0</td><td>--</td><td>--</td><td>0.41</td><td>--</td><td>--</td><td>2.02</td><td>0.01</td><td>--</td><td>--</td><td>--</td><td>--</td><td>--</td><td>--</td><td>--</td><td>--</td><td>--</td><td>--</td><td>--</td><td>--</td><td>Keane E. F., Kramer M., Lyne A. G., Stappers B. W., McLaughlin M. A., 2011, MNRAS, 415, 3065</td></tr>\n",
       "<tr><td>FRB010724</td><td>parkes</td><td>radio</td><td>2001-07-24 19:50:00</td><td>6</td><td>MB20</td><td>AFB</td><td>01:18:06</td><td>-75:12:18</td><td>11</td><td>15.0</td><td>1.0</td><td>288.0</td><td>--</td><td>1</td><td>0.69</td><td>28.0</td><td>44.58</td><td>375.0</td><td>3.0</td><td>100.0</td><td>20.0</td><td>0.0</td><td>0.0</td><td>1.574</td><td>0.0</td><td>0.0</td><td>--</td><td>--</td><td>--</td><td>--</td><td>--</td><td>--</td><td>--</td><td>--</td><td>--</td><td>--</td><td>--</td><td>--</td><td>--</td><td>--</td><td>Lorimer D. R., Bailes M., McLaughlin M. A., Narkevic, D. J., Crawford F., 2007, Science, 318, 777</td></tr>\n",
       "</table>"
      ],
      "text/plain": [
       "<Table masked=True length=5>\n",
       "   Name   ...\n",
       "   str9   ...\n",
       "--------- ...\n",
       "FRB010125 ...\n",
       "FRB010125 ...\n",
       "FRB010621 ...\n",
       "FRB010621 ...\n",
       "FRB010724 ..."
      ]
     },
     "execution_count": 26,
     "metadata": {},
     "output_type": "execute_result"
    }
   ],
   "source": [
    "obs.frbcat[0:5]"
   ]
  },
  {
   "cell_type": "code",
   "execution_count": null,
   "metadata": {
    "collapsed": true
   },
   "outputs": [],
   "source": []
  }
 ],
 "metadata": {
  "kernelspec": {
   "display_name": "Python 3",
   "language": "python",
   "name": "python3"
  },
  "language_info": {
   "codemirror_mode": {
    "name": "ipython",
    "version": 3
   },
   "file_extension": ".py",
   "mimetype": "text/x-python",
   "name": "python",
   "nbconvert_exporter": "python",
   "pygments_lexer": "ipython3",
   "version": "3.6.1"
  }
 },
 "nbformat": 4,
 "nbformat_minor": 2
}
