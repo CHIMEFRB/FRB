{
 "cells": [
  {
   "cell_type": "markdown",
   "metadata": {},
   "source": [
    "# Emission Measure Calculations"
   ]
  },
  {
   "cell_type": "code",
   "execution_count": 2,
   "metadata": {},
   "outputs": [],
   "source": [
    "#%matplotlib notebook"
   ]
  },
  {
   "cell_type": "code",
   "execution_count": 1,
   "metadata": {},
   "outputs": [],
   "source": [
    "# imports\n",
    "from importlib import reload\n",
    "import numpy as np\n",
    "from matplotlib import pyplot as plt\n",
    "\n",
    "from astropy import units\n",
    "from astropy import constants\n",
    "\n",
    "from frb import em\n",
    "from frb.halos import models"
   ]
  },
  {
   "cell_type": "markdown",
   "metadata": {},
   "source": [
    "# EM from H$\\alpha$"
   ]
  },
  {
   "cell_type": "markdown",
   "metadata": {},
   "source": [
    "## Follow Reynolds 1977"
   ]
  },
  {
   "cell_type": "code",
   "execution_count": 2,
   "metadata": {},
   "outputs": [],
   "source": [
    "obs_Ha = 1e-17 * units.erg / units.cm**2 / units.s / units.arcsec**2"
   ]
  },
  {
   "cell_type": "code",
   "execution_count": 3,
   "metadata": {},
   "outputs": [
    {
     "data": {
      "text/latex": [
       "$3.0262734 \\times 10^{-12} \\; \\mathrm{erg}$"
      ],
      "text/plain": [
       "<Quantity 3.0262734e-12 erg>"
      ]
     },
     "execution_count": 3,
     "metadata": {},
     "output_type": "execute_result"
    }
   ],
   "source": [
    "Ha = 6564. * units.Angstrom\n",
    "E_Ha_photon = constants.c * constants.h / Ha\n",
    "E_Ha_photon.to('erg')"
   ]
  },
  {
   "cell_type": "code",
   "execution_count": 4,
   "metadata": {},
   "outputs": [
    {
     "data": {
      "text/latex": [
       "$120.1326 \\; \\mathrm{R}$"
      ],
      "text/plain": [
       "<Quantity 120.13260183 R>"
      ]
     },
     "execution_count": 4,
     "metadata": {},
     "output_type": "execute_result"
    }
   ],
   "source": [
    "(obs_Ha*units.ph/E_Ha_photon).decompose().to('rayleigh') * 68"
   ]
  },
  {
   "cell_type": "code",
   "execution_count": 5,
   "metadata": {},
   "outputs": [
    {
     "name": "stderr",
     "output_type": "stream",
     "text": [
      "WARNING: UnitsWarning: 'erg/s/cm**2/sr' contains multiple slashes, which is discouraged by the FITS standard [astropy.units.format.generic]\n"
     ]
    },
    {
     "data": {
      "text/latex": [
       "$2.4089136 \\times 10^{-7} \\; \\mathrm{\\frac{erg}{s\\,sr\\,cm^{2}}}$"
      ],
      "text/plain": [
       "<Quantity 2.40891362e-07 erg / (cm2 s sr)>"
      ]
     },
     "execution_count": 5,
     "metadata": {},
     "output_type": "execute_result"
    }
   ],
   "source": [
    "(7.96e8 * E_Ha_photon / units.s / units.m**2 / units.sr).to('erg/s/cm**2/sr')"
   ]
  },
  {
   "cell_type": "markdown",
   "metadata": {},
   "source": [
    "### FRB 121102"
   ]
  },
  {
   "cell_type": "code",
   "execution_count": 6,
   "metadata": {},
   "outputs": [
    {
     "data": {
      "text/latex": [
       "$668.58867 \\; \\mathrm{\\frac{pc}{cm^{6}}}$"
      ],
      "text/plain": [
       "<Quantity 668.58866588 pc / cm6>"
      ]
     },
     "execution_count": 6,
     "metadata": {},
     "output_type": "execute_result"
    }
   ],
   "source": [
    "reload(em)\n",
    "em_121102 = em.em_from_halpha(6.8e-16*units.erg/units.cm**2/units.s/units.arcsec**2, 0.1927)\n",
    "em_121102"
   ]
  },
  {
   "cell_type": "markdown",
   "metadata": {},
   "source": [
    "### FRB 180924"
   ]
  },
  {
   "cell_type": "code",
   "execution_count": 7,
   "metadata": {},
   "outputs": [],
   "source": [
    "Ha_total = 28.1 * 1e-17 * units.erg/units.s/units.cm**2"
   ]
  },
  {
   "cell_type": "markdown",
   "metadata": {},
   "source": [
    "#### Assume 5% of the average surface brightness at the FRB; this should be conservative"
   ]
  },
  {
   "cell_type": "code",
   "execution_count": 8,
   "metadata": {},
   "outputs": [
    {
     "data": {
      "text/latex": [
       "$1.405 \\times 10^{-17} \\; \\mathrm{\\frac{erg}{s\\,arcsec^{2}\\,cm^{2}}}$"
      ],
      "text/plain": [
       "<Quantity 1.405e-17 erg / (arcsec2 cm2 s)>"
      ]
     },
     "execution_count": 8,
     "metadata": {},
     "output_type": "execute_result"
    }
   ],
   "source": [
    "Ha_180924 = 0.05 * Ha_total / units.arcsec**2\n",
    "Ha_180924"
   ]
  },
  {
   "cell_type": "code",
   "execution_count": 9,
   "metadata": {},
   "outputs": [
    {
     "data": {
      "text/latex": [
       "$20.813195 \\; \\mathrm{\\frac{pc}{cm^{6}}}$"
      ],
      "text/plain": [
       "<Quantity 20.81319506 pc / cm6>"
      ]
     },
     "execution_count": 9,
     "metadata": {},
     "output_type": "execute_result"
    }
   ],
   "source": [
    "EM_180924 = em.em_from_halpha(Ha_180924, 0.3214)\n",
    "EM_180924"
   ]
  },
  {
   "cell_type": "markdown",
   "metadata": {},
   "source": [
    "# DM from EM -- Reynolds and Cordes"
   ]
  },
  {
   "cell_type": "markdown",
   "metadata": {},
   "source": [
    "### FRB 121102"
   ]
  },
  {
   "cell_type": "code",
   "execution_count": 10,
   "metadata": {},
   "outputs": [
    {
     "data": {
      "text/latex": [
       "$408.52143 \\; \\mathrm{\\frac{pc}{cm^{3}}}$"
      ],
      "text/plain": [
       "<Quantity 408.5214313 pc / cm3>"
      ]
     },
     "execution_count": 10,
     "metadata": {},
     "output_type": "execute_result"
    }
   ],
   "source": [
    "reload(em)\n",
    "DM_s = em.dm_from_em(em_121102, 1*units.kpc)\n",
    "DM_s"
   ]
  },
  {
   "cell_type": "markdown",
   "metadata": {},
   "source": [
    "### FRB 180924"
   ]
  },
  {
   "cell_type": "code",
   "execution_count": 11,
   "metadata": {},
   "outputs": [
    {
     "data": {
      "text/latex": [
       "$17.267553 \\; \\mathrm{\\frac{pc}{cm^{3}}}$"
      ],
      "text/plain": [
       "<Quantity 17.26755253 pc / cm3>"
      ]
     },
     "execution_count": 11,
     "metadata": {},
     "output_type": "execute_result"
    }
   ],
   "source": [
    "DM_s_180924 = em.dm_from_em(EM_180924, 0.1*units.kpc)\n",
    "DM_s_180924/(1+0.32)"
   ]
  },
  {
   "cell_type": "markdown",
   "metadata": {},
   "source": [
    "# Fooling around in the Halo"
   ]
  },
  {
   "cell_type": "markdown",
   "metadata": {},
   "source": [
    "## Emissivity --  $j_\\nu \\sim n_e^2 \\, \\exp[-(h\\nu - Z^2 h \\nu_0/n^2)/kT] / T^{3/2}$"
   ]
  },
  {
   "cell_type": "code",
   "execution_count": 12,
   "metadata": {},
   "outputs": [],
   "source": [
    "mw = models.MilkyWay()"
   ]
  },
  {
   "cell_type": "markdown",
   "metadata": {},
   "source": [
    "### Plot $n_e^2$"
   ]
  },
  {
   "cell_type": "code",
   "execution_count": 13,
   "metadata": {},
   "outputs": [],
   "source": [
    "xyz = np.zeros((3,100))\n",
    "Z = np.linspace(10,300,100)\n",
    "xyz[2,:] = Z"
   ]
  },
  {
   "cell_type": "code",
   "execution_count": 14,
   "metadata": {},
   "outputs": [],
   "source": [
    "nesq = mw.ne(xyz)**2"
   ]
  },
  {
   "cell_type": "code",
   "execution_count": 15,
   "metadata": {},
   "outputs": [
    {
     "data": {
      "image/png": "[encoded data removed]",
      "text/plain": [
       "<Figure size 432x288 with 1 Axes>"
      ]
     },
     "metadata": {
      "needs_background": "light"
     },
     "output_type": "display_data"
    }
   ],
   "source": [
    "# \n",
    "plt.clf()\n",
    "ax = plt.gca()\n",
    "ax.plot(Z, nesq)\n",
    "# Labels\n",
    "ax.set_xlabel('Z Distance (kpc)')\n",
    "ax.set_ylabel(r'$n_e^2 \\; (\\rm cm^{-3})$')\n",
    "plt.show()"
   ]
  },
  {
   "cell_type": "markdown",
   "metadata": {},
   "source": [
    "### Plot Emission per radial shell"
   ]
  },
  {
   "cell_type": "code",
   "execution_count": 16,
   "metadata": {},
   "outputs": [
    {
     "data": {
      "image/png": "[encoded data removed]",
      "text/plain": [
       "<Figure size 432x288 with 1 Axes>"
      ]
     },
     "metadata": {
      "needs_background": "light"
     },
     "output_type": "display_data"
    }
   ],
   "source": [
    "plt.clf()\n",
    "ax = plt.gca()\n",
    "ax.plot(Z, nesq* Z**2)\n",
    "# Contrast with ISM (ignoring Temperature which reduces the halo further)\n",
    "#ax.plot([0., 300], [0.1**2 * 10.**2]*2, 'b--')\n",
    "# Labels\n",
    "ax.set_xlabel('Z Distance (kpc)')\n",
    "ax.set_ylabel(r'$n_e^2 \\, Z^2 \\; (\\rm cm^{-1})$')\n",
    "#\n",
    "plt.show()"
   ]
  },
  {
   "cell_type": "code",
   "execution_count": null,
   "metadata": {},
   "outputs": [],
   "source": []
  }
 ],
 "metadata": {
  "kernelspec": {
   "display_name": "Python 3 (ipykernel)",
   "language": "python",
   "name": "python3"
  },
  "language_info": {
   "codemirror_mode": {
    "name": "ipython",
    "version": 3
   },
   "file_extension": ".py",
   "mimetype": "text/x-python",
   "name": "python",
   "nbconvert_exporter": "python",
   "pygments_lexer": "ipython3",
   "version": "3.8.5"
  }
 },
 "nbformat": 4,
 "nbformat_minor": 4
}
