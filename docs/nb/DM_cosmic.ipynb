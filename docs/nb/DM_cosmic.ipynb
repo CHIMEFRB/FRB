{
 "cells": [
  {
   "cell_type": "markdown",
   "metadata": {},
   "source": [
<<<<<<< HEAD
    "# Calculations related to the IGM [v1]\n",
    "    These will be presented in a forthcoming paper:  Simha & Prochaska (2019)"
=======
    "# Calculations related to the DM IGM [v2]\n",
    "    v1 -- These were presented in Macquart+2020 (more or less)\n",
    "    v2 -- A few updates"
>>>>>>> origin/associate_te
   ]
  },
  {
   "cell_type": "code",
<<<<<<< HEAD
   "execution_count": 1,
   "metadata": {
    "collapsed": true
   },
=======
   "execution_count": 35,
   "metadata": {},
>>>>>>> origin/associate_te
   "outputs": [],
   "source": [
    "#%matplotlib notebook"
   ]
  },
  {
   "cell_type": "code",
   "execution_count": 36,
   "metadata": {},
   "outputs": [],
   "source": [
    "# imports\n",
    "from importlib import reload\n",
    "import numpy as np\n",
    "import os\n",
    "\n",
    "from pkg_resources import resource_filename\n",
    "\n",
    "from matplotlib import pyplot as plt\n",
    "\n",
    "from scipy import interpolate\n",
    "\n",
    "from astropy import units\n",
    "from astropy.table import Table\n",
    "from astropy.cosmology import Planck15\n",
    "\n",
<<<<<<< HEAD
    "from frb import igm"
   ]
  },
  {
   "cell_type": "markdown",
   "metadata": {},
   "source": [
    "## Stellar mass (baryons locked up)"
   ]
  },
  {
   "cell_type": "code",
   "execution_count": 3,
   "metadata": {},
   "outputs": [],
   "source": [
    "#stellar_mass_file = resource_filename('frb', 'data/IGM/stellarmass.dat')\n",
    "stellar_mass_file = resource_filename('frb', os.path.join('data','IGM','stellarmass.dat'))"
   ]
  },
  {
   "cell_type": "code",
   "execution_count": 4,
   "metadata": {
    "collapsed": true
   },
   "outputs": [],
   "source": [
    "rho_mstar_tbl = Table.read(stellar_mass_file, format='ascii')"
   ]
  },
  {
   "cell_type": "code",
   "execution_count": 5,
   "metadata": {},
   "outputs": [
    {
     "data": {
      "text/html": [
       "<i>Table length=5</i>\n",
       "<table id=\"table139634690677000\" class=\"table-striped table-bordered table-condensed\">\n",
       "<thead><tr><th>z</th><th>t_Gyr</th><th>rho_Mstar</th></tr></thead>\n",
       "<thead><tr><th>float64</th><th>float64</th><th>float64</th></tr></thead>\n",
       "<tr><td>0.0</td><td>13.48</td><td>576600000.0</td></tr>\n",
       "<tr><td>0.1</td><td>12.18</td><td>560400000.0</td></tr>\n",
       "<tr><td>0.2</td><td>11.05</td><td>542400000.0</td></tr>\n",
       "<tr><td>0.3</td><td>10.06</td><td>522900000.0</td></tr>\n",
       "<tr><td>0.4</td><td>9.194</td><td>501900000.0</td></tr>\n",
       "</table>"
      ],
      "text/plain": [
       "<Table length=5>\n",
       "   z     t_Gyr   rho_Mstar \n",
       "float64 float64   float64  \n",
       "------- ------- -----------\n",
       "    0.0   13.48 576600000.0\n",
       "    0.1   12.18 560400000.0\n",
       "    0.2   11.05 542400000.0\n",
       "    0.3   10.06 522900000.0\n",
       "    0.4   9.194 501900000.0"
      ]
     },
     "execution_count": 5,
     "metadata": {},
     "output_type": "execute_result"
    }
   ],
   "source": [
    "rho_mstar_tbl[0:5]"
   ]
  },
  {
   "cell_type": "markdown",
   "metadata": {},
   "source": [
    "### Method"
   ]
  },
  {
   "cell_type": "code",
   "execution_count": 6,
   "metadata": {
    "collapsed": true
   },
   "outputs": [],
   "source": [
    "zval = np.linspace(0., 4., 100)\n",
    "rho_Mstar = igm.avg_rhoMstar(zval, remnants=False)"
   ]
  },
  {
   "cell_type": "code",
   "execution_count": 7,
   "metadata": {
    "scrolled": false
   },
   "outputs": [
    {
     "data": {
      "image/png": "iVBORw0KGgoAAAANSUhEUgAAAYsAAAEKCAYAAADjDHn2AAAABHNCSVQICAgIfAhkiAAAAAlwSFlz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\nLOo33AAAAABJRU5ErkJggg==\n",
      "text/plain": [
       "<Figure size 432x288 with 1 Axes>"
      ]
     },
     "metadata": {},
     "output_type": "display_data"
    }
   ],
   "source": [
    "plt.clf()\n",
    "ax = plt.gca()\n",
    "ax.plot(zval, np.log10(rho_Mstar.value))\n",
    "# Label\n",
    "ax.set_xlabel('z')\n",
    "ax.set_ylabel(r'$\\log \\, \\rho_* \\; [M_\\odot/ \\rm Mpc^3]$ ')\n",
    "plt.show()"
   ]
  },
  {
   "cell_type": "markdown",
   "metadata": {},
   "source": [
    "### Following Fukugita 2004 (Table 1)"
   ]
  },
  {
   "cell_type": "code",
   "execution_count": 8,
   "metadata": {
    "collapsed": true
   },
   "outputs": [],
   "source": [
    "M_sphere = 0.0015\n",
    "M_disk = 0.00055\n",
    "M_WD = 0.00036\n",
    "M_NS = 0.00005\n",
    "M_BH = 0.00007\n",
    "M_BD = 0.00014"
   ]
  },
  {
   "cell_type": "code",
   "execution_count": 9,
   "metadata": {},
   "outputs": [
    {
     "data": {
      "text/plain": [
       "0.30243902439024395"
      ]
     },
     "execution_count": 9,
     "metadata": {},
     "output_type": "execute_result"
    }
   ],
   "source": [
    "f_remnants = (M_WD+M_NS+M_BH+M_BD) / (M_sphere+M_disk)\n",
    "f_remnants"
   ]
  },
  {
   "cell_type": "code",
   "execution_count": 10,
   "metadata": {
    "collapsed": true
   },
   "outputs": [],
   "source": [
    "rho_Mstar_full = igm.avg_rhoMstar(zval, remnants=True)"
   ]
  },
  {
   "cell_type": "code",
   "execution_count": 11,
   "metadata": {},
   "outputs": [
    {
     "data": {
      "image/png": "iVBORw0KGgoAAAANSUhEUgAAAYsAAAEKCAYAAADjDHn2AAAABHNCSVQICAgIfAhkiAAAAAlwSFlz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\n",
      "text/plain": [
       "<Figure size 432x288 with 1 Axes>"
      ]
     },
     "metadata": {},
     "output_type": "display_data"
    }
   ],
   "source": [
    "plt.clf()\n",
    "ax = plt.gca()\n",
    "ax.plot(zval, np.log10(rho_Mstar.value), label='No Remnants')\n",
    "ax.plot(zval, np.log10(rho_Mstar_full.value), label='With Remnants')\n",
    "# Label\n",
    "ax.set_xlabel('z')\n",
    "ax.set_ylabel(r'$\\log \\, \\rho_* \\; [M_\\odot/ \\rm Mpc^3]$ ')\n",
    "# Legend\n",
    "legend = plt.legend(loc='upper right', scatterpoints=1, borderpad=0.2,\n",
    "                       handletextpad=0.1, fontsize='large')\n",
    "plt.show()"
   ]
  },
  {
   "cell_type": "markdown",
   "metadata": {},
   "source": [
    "## ISM"
   ]
  },
  {
   "cell_type": "markdown",
   "metadata": {},
   "source": [
    "### $z=0$  -- Fukugita 2004"
   ]
  },
  {
   "cell_type": "code",
   "execution_count": 12,
   "metadata": {
    "collapsed": true
   },
   "outputs": [],
   "source": [
    "M_HI = 0.00062\n",
    "M_H2 = 0.00016\n",
    "M_ISM = M_HI + M_H2"
   ]
  },
  {
   "cell_type": "code",
   "execution_count": 13,
   "metadata": {},
   "outputs": [
    {
     "data": {
      "text/plain": [
       "0.38048780487804873"
      ]
     },
     "execution_count": 13,
     "metadata": {},
     "output_type": "execute_result"
    }
   ],
   "source": [
    "M_ISM/(M_sphere+M_disk)"
   ]
  },
  {
   "cell_type": "markdown",
   "metadata": {},
   "source": [
    "### $z>0$ -- Could use DLAs and [silly] K-S relation\n",
    "    For now, assume M_ISM = M* at z>1"
   ]
  },
  {
   "cell_type": "markdown",
   "metadata": {},
   "source": [
    "### Do it"
   ]
  },
  {
   "cell_type": "code",
   "execution_count": 14,
   "metadata": {
    "collapsed": true
   },
   "outputs": [],
   "source": [
    "rhoISM = igm.avg_rhoISM(zval)"
   ]
  },
  {
   "cell_type": "code",
   "execution_count": 15,
   "metadata": {},
   "outputs": [
    {
     "data": {
      "image/png": "iVBORw0KGgoAAAANSUhEUgAAAYsAAAEKCAYAAADjDHn2AAAABHNCSVQICAgIfAhkiAAAAAlwSFlz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\nSqkEabJQSimVIE0WSimlEvR/VSgDPmVGPTgAAAAASUVORK5CYII=\n",
      "text/plain": [
       "<Figure size 432x288 with 1 Axes>"
      ]
     },
     "metadata": {},
     "output_type": "display_data"
    }
   ],
   "source": [
    "plt.clf()\n",
    "ax = plt.gca()\n",
    "ax.plot(zval, np.log10(rhoISM.value), label='ISM')\n",
    "ax.plot(zval, np.log10(rho_Mstar_full.value), label='M*')\n",
    "# Label\n",
    "ax.set_xlabel('z')\n",
    "ax.set_ylabel(r'$\\log \\, \\rho \\; [M_\\odot/ \\rm Mpc^3]$ ')\n",
    "# Legend\n",
    "legend = plt.legend(loc='upper right', scatterpoints=1, borderpad=0.2,\n",
    "                       handletextpad=0.1, fontsize='large')\n",
    "plt.show()"
   ]
  },
  {
   "cell_type": "markdown",
   "metadata": {},
   "source": [
    "## $Y$ -- Helium\n",
    "    https://arxiv.org/abs/1807.09774"
   ]
  },
  {
   "cell_type": "code",
   "execution_count": 16,
   "metadata": {
    "collapsed": true
   },
   "outputs": [],
   "source": [
    "#He_file = resource_filename('frb', 'data/IGM/qheIII.txt')\n",
    "He_file = resource_filename('frb', os.path.join('data','IGM','qheIII.txt'))"
   ]
  },
  {
   "cell_type": "code",
   "execution_count": 17,
   "metadata": {
    "collapsed": true
   },
   "outputs": [],
   "source": [
    "qHeIII = Table.read(He_file, format='ascii')"
   ]
  },
  {
   "cell_type": "code",
   "execution_count": 18,
   "metadata": {},
   "outputs": [
    {
     "data": {
      "text/html": [
       "<i>Table length=833</i>\n",
       "<table id=\"table139633856316808\" class=\"table-striped table-bordered table-condensed\">\n",
       "<thead><tr><th>z</th><th>Q_HeIII_18</th><th>Q_HeIII_18_l</th><th>Q_HeIII_18_u</th><th>Q_HeIII_21</th><th>Q_HeIII_21_l</th><th>Q_HeIII_21_u</th></tr></thead>\n",
       "<thead><tr><th>float64</th><th>float64</th><th>float64</th><th>float64</th><th>float64</th><th>float64</th><th>float64</th></tr></thead>\n",
       "<tr><td>12.0</td><td>1e-10</td><td>1e-10</td><td>1e-10</td><td>1e-10</td><td>1e-10</td><td>1e-10</td></tr>\n",
       "<tr><td>11.988</td><td>4.374927e-09</td><td>2.218632e-10</td><td>1.508848e-07</td><td>1.860788e-09</td><td>2.667322e-10</td><td>1.104288e-08</td></tr>\n",
       "<tr><td>11.976</td><td>8.743113e-09</td><td>3.519406e-10</td><td>3.034705e-07</td><td>3.67851e-09</td><td>4.431452e-10</td><td>2.215664e-08</td></tr>\n",
       "<tr><td>11.964</td><td>1.320629e-08</td><td>4.904414e-10</td><td>4.578895e-07</td><td>5.554472e-09</td><td>6.294819e-10</td><td>3.344437e-08</td></tr>\n",
       "<tr><td>11.952</td><td>1.776445e-08</td><td>6.373657e-10</td><td>6.141419e-07</td><td>7.488672e-09</td><td>8.257424e-10</td><td>4.490605e-08</td></tr>\n",
       "<tr><td>11.94</td><td>2.24176e-08</td><td>7.927134e-10</td><td>7.722276e-07</td><td>9.48111e-09</td><td>1.031927e-09</td><td>5.654171e-08</td></tr>\n",
       "<tr><td>11.928</td><td>2.716575e-08</td><td>9.564846e-10</td><td>9.321466e-07</td><td>1.153179e-08</td><td>1.248034e-09</td><td>6.835133e-08</td></tr>\n",
       "<tr><td>11.916</td><td>3.200887e-08</td><td>1.128679e-09</td><td>1.093899e-06</td><td>1.36407e-08</td><td>1.474066e-09</td><td>8.033491e-08</td></tr>\n",
       "<tr><td>11.904</td><td>3.694699e-08</td><td>1.309297e-09</td><td>1.257485e-06</td><td>1.580786e-08</td><td>1.710021e-09</td><td>9.249246e-08</td></tr>\n",
       "<tr><td>11.892</td><td>4.19801e-08</td><td>1.498339e-09</td><td>1.422904e-06</td><td>1.803325e-08</td><td>1.955901e-09</td><td>1.04824e-07</td></tr>\n",
       "<tr><td>...</td><td>...</td><td>...</td><td>...</td><td>...</td><td>...</td><td>...</td></tr>\n",
       "<tr><td>2.114</td><td>1.0</td><td>1.0</td><td>1.0</td><td>1.0</td><td>1.0</td><td>1.0</td></tr>\n",
       "<tr><td>2.102</td><td>1.0</td><td>1.0</td><td>1.0</td><td>1.0</td><td>1.0</td><td>1.0</td></tr>\n",
       "<tr><td>2.09</td><td>1.0</td><td>1.0</td><td>1.0</td><td>1.0</td><td>1.0</td><td>1.0</td></tr>\n",
       "<tr><td>2.078</td><td>1.0</td><td>1.0</td><td>1.0</td><td>1.0</td><td>1.0</td><td>1.0</td></tr>\n",
       "<tr><td>2.066</td><td>1.0</td><td>1.0</td><td>1.0</td><td>1.0</td><td>1.0</td><td>1.0</td></tr>\n",
       "<tr><td>2.054</td><td>1.0</td><td>1.0</td><td>1.0</td><td>1.0</td><td>1.0</td><td>1.0</td></tr>\n",
       "<tr><td>2.042</td><td>1.0</td><td>1.0</td><td>1.0</td><td>1.0</td><td>1.0</td><td>1.0</td></tr>\n",
       "<tr><td>2.03</td><td>1.0</td><td>1.0</td><td>1.0</td><td>1.0</td><td>1.0</td><td>1.0</td></tr>\n",
       "<tr><td>2.018</td><td>1.0</td><td>1.0</td><td>1.0</td><td>1.0</td><td>1.0</td><td>1.0</td></tr>\n",
       "<tr><td>2.006</td><td>1.0</td><td>1.0</td><td>1.0</td><td>1.0</td><td>1.0</td><td>1.0</td></tr>\n",
       "</table>"
      ],
      "text/plain": [
       "<Table length=833>\n",
       "   z     Q_HeIII_18  Q_HeIII_18_l ...  Q_HeIII_21  Q_HeIII_21_l Q_HeIII_21_u\n",
       "float64   float64      float64    ...   float64      float64      float64   \n",
       "------- ------------ ------------ ... ------------ ------------ ------------\n",
       "   12.0        1e-10        1e-10 ...        1e-10        1e-10        1e-10\n",
       " 11.988 4.374927e-09 2.218632e-10 ... 1.860788e-09 2.667322e-10 1.104288e-08\n",
       " 11.976 8.743113e-09 3.519406e-10 ...  3.67851e-09 4.431452e-10 2.215664e-08\n",
       " 11.964 1.320629e-08 4.904414e-10 ... 5.554472e-09 6.294819e-10 3.344437e-08\n",
       " 11.952 1.776445e-08 6.373657e-10 ... 7.488672e-09 8.257424e-10 4.490605e-08\n",
       "  11.94  2.24176e-08 7.927134e-10 ...  9.48111e-09 1.031927e-09 5.654171e-08\n",
       " 11.928 2.716575e-08 9.564846e-10 ... 1.153179e-08 1.248034e-09 6.835133e-08\n",
       " 11.916 3.200887e-08 1.128679e-09 ...  1.36407e-08 1.474066e-09 8.033491e-08\n",
       " 11.904 3.694699e-08 1.309297e-09 ... 1.580786e-08 1.710021e-09 9.249246e-08\n",
       " 11.892  4.19801e-08 1.498339e-09 ... 1.803325e-08 1.955901e-09  1.04824e-07\n",
       "    ...          ...          ... ...          ...          ...          ...\n",
       "  2.114          1.0          1.0 ...          1.0          1.0          1.0\n",
       "  2.102          1.0          1.0 ...          1.0          1.0          1.0\n",
       "   2.09          1.0          1.0 ...          1.0          1.0          1.0\n",
       "  2.078          1.0          1.0 ...          1.0          1.0          1.0\n",
       "  2.066          1.0          1.0 ...          1.0          1.0          1.0\n",
       "  2.054          1.0          1.0 ...          1.0          1.0          1.0\n",
       "  2.042          1.0          1.0 ...          1.0          1.0          1.0\n",
       "   2.03          1.0          1.0 ...          1.0          1.0          1.0\n",
       "  2.018          1.0          1.0 ...          1.0          1.0          1.0\n",
       "  2.006          1.0          1.0 ...          1.0          1.0          1.0"
      ]
     },
     "execution_count": 18,
     "metadata": {},
     "output_type": "execute_result"
    }
   ],
   "source": [
    "qHeIII"
   ]
  },
  {
   "cell_type": "markdown",
   "metadata": {},
   "source": [
    "### Plot"
   ]
  },
  {
   "cell_type": "code",
   "execution_count": 19,
   "metadata": {},
   "outputs": [
    {
     "data": {
      "image/png": "iVBORw0KGgoAAAANSUhEUgAAAYUAAAEKCAYAAAD9xUlFAAAABHNCSVQICAgIfAhkiAAAAAlwSFlz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\n+rWshwAAAABJRU5ErkJggg==\n",
      "text/plain": [
       "<Figure size 432x288 with 1 Axes>"
      ]
     },
     "metadata": {},
     "output_type": "display_data"
    }
   ],
   "source": [
    "plt.clf()\n",
    "ax=plt.gca()\n",
    "ax.plot(qHeIII['z'], qHeIII['Q_HeIII_18'])\n",
    "#\n",
    "ax.set_xlabel('z')\n",
    "ax.set_ylabel('f(HeIII)')\n",
    "#\n",
    "plt.show()"
=======
    "from frb.dm import igm"
>>>>>>> origin/associate_te
   ]
  },
  {
   "cell_type": "markdown",
   "metadata": {},
   "source": [
    "## DM -- Piece by piece (as coded)"
   ]
  },
  {
   "cell_type": "markdown",
   "metadata": {},
   "source": [
    "### $\\rho_b = \\Omega_b \\rho_c (1+z)^3$"
   ]
  },
  {
   "cell_type": "markdown",
   "metadata": {},
   "source": [
    "### $\\rho_{\\rm diffuse} = \\rho_b - (\\rho_* + \\rho_{\\rm ISM})$\n",
    "\n",
    "\n",
    "#### $\\rho_*$ is the mass density in stars\n",
    "\n",
    "#### $\\rho_{\\rm ISM}$ is the mass density in the neutral ISM"
   ]
  },
  {
   "cell_type": "markdown",
   "metadata": {},
   "source": [
    "### Number densities\n",
    "\n",
    "### $n_{\\rm H} = \\rho_{\\rm diffuse}/(m_p \\, \\mu)$\n",
    "\n",
    "#### $\\mu \\approx 1.3$ accounts for Helium\n",
    "\n",
    "### $n_{\\rm He} = n_{\\rm H}/12$"
   ]
  },
  {
   "cell_type": "markdown",
   "metadata": {},
   "source": [
    "### $n_e = n_{\\rm H} [1-f_{\\rm HI}] + n_{\\rm He} Y$\n",
    "\n",
    "#### $f_{\\rm HI}$ is the fraction atomic Hydrogen [value betwee 0-1]\n",
    "\n",
    "#### $Y$ gives the number of free electrons per He nucleus  [value between 0-2]"
   ]
  },
  {
   "cell_type": "markdown",
   "metadata": {},
   "source": [
    "### Integrating\n",
    "\n",
    "### $DM = \\int \\frac{n_e \\, dr}{1+z} = \\frac{c}{H_0} \\int \\frac{n_e \\, dz}{(1+z)^2 \\sqrt{(1+z)^3 \\Omega_m + \n",
    "                                                                                 \\Omega_\\Lambda}}$"
   ]
  },
  {
   "cell_type": "markdown",
   "metadata": {},
   "source": [
    "## DM -- Altogether (using the code)"
   ]
  },
  {
   "cell_type": "code",
   "execution_count": 37,
   "metadata": {},
   "outputs": [
    {
     "data": {
      "text/latex": [
       "$921.99889 \\; \\mathrm{\\frac{pc}{cm^{3}}}$"
      ],
      "text/plain": [
       "<Quantity 921.9988935 pc / cm3>"
      ]
     },
     "execution_count": 37,
     "metadata": {},
     "output_type": "execute_result"
    }
   ],
   "source": [
    "reload(igm)\n",
    "DM = igm.average_DM(1.)\n",
    "DM"
   ]
  },
  {
   "cell_type": "markdown",
   "metadata": {},
   "source": [
    "### Cumulative plot"
   ]
  },
  {
   "cell_type": "code",
   "execution_count": 38,
   "metadata": {},
   "outputs": [],
   "source": [
    "DM_cumul, zeval = igm.average_DM(1., cumul=True)"
   ]
  },
  {
   "cell_type": "code",
   "execution_count": 39,
   "metadata": {},
   "outputs": [],
   "source": [
    "# Inoue approximation\n",
    "DM_approx = 1000. * zeval * units.pc / units.cm**3"
   ]
  },
  {
   "cell_type": "code",
   "execution_count": 40,
   "metadata": {},
   "outputs": [
    {
     "data": {
      "image/png": "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\n",
      "text/plain": [
       "<Figure size 432x288 with 1 Axes>"
      ]
     },
     "metadata": {
      "needs_background": "light"
     },
     "output_type": "display_data"
    }
   ],
   "source": [
    "plt.clf()\n",
    "ax = plt.gca()\n",
    "ax.plot(zeval, DM_cumul, label='JXP')\n",
    "ax.plot(zeval, DM_approx, label='Approx')\n",
    "# Label\n",
    "ax.set_xlabel('z')\n",
    "ax.set_ylabel(r'${\\rm DM}_{\\rm IGM} [\\rm pc / cm^3]$ ')\n",
    "# Legend\n",
    "legend = plt.legend(loc='lower right', scatterpoints=1, borderpad=0.2,\n",
    "                       handletextpad=0.1, fontsize='large')\n",
    "plt.show()"
   ]
  },
  {
   "cell_type": "code",
   "execution_count": 41,
   "metadata": {},
   "outputs": [
    {
     "data": {
      "image/png": "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\n",
      "text/plain": [
       "<Figure size 432x288 with 1 Axes>"
      ]
     },
     "metadata": {
      "needs_background": "light"
     },
     "output_type": "display_data"
    }
   ],
   "source": [
    "plt.clf()\n",
    "ax = plt.gca()\n",
    "ax.plot(zeval, DM_approx/DM_cumul, label='Approx/JXP')\n",
    "#ax.plot(zeval, DM_approx, label='Approx')\n",
    "# Label\n",
    "ax.set_xlabel('z')\n",
    "ax.set_ylabel(r'Ratio of ${\\rm DM}_{\\rm IGM} [\\rm pc / cm^3]$ ')\n",
    "# Legend\n",
    "legend = plt.legend(loc='upper right', scatterpoints=1, borderpad=0.2,\n",
    "                       handletextpad=0.1, fontsize='large')\n",
    "plt.show()"
   ]
  },
  {
   "cell_type": "code",
   "execution_count": 42,
   "metadata": {},
   "outputs": [
    {
     "data": {
      "text/latex": [
       "$[0.081784485,~0.16357399,~0.24536851,~0.32716805,~0.40897261,~0.49078218,~0.57259677,~0.65441636,~0.73624097,~0.81807058] \\; \\mathrm{\\frac{pc}{cm^{3}}}$"
      ],
      "text/plain": [
       "<Quantity [0.08178449, 0.16357399, 0.24536851, 0.32716805, 0.40897261,\n",
       "           0.49078218, 0.57259677, 0.65441636, 0.73624097, 0.81807058] pc / cm3>"
      ]
     },
     "execution_count": 42,
     "metadata": {},
     "output_type": "execute_result"
    }
   ],
   "source": [
    "DM_cumul[0:10]"
   ]
  },
  {
   "cell_type": "code",
   "execution_count": 43,
   "metadata": {},
   "outputs": [
    {
     "data": {
      "text/latex": [
       "$[0,~0.10001,~0.20002,~0.30003,~0.40004,~0.50005001,~0.60006001,~0.70007001,~0.80008001,~0.90009001] \\; \\mathrm{\\frac{pc}{cm^{3}}}$"
      ],
      "text/plain": [
       "<Quantity [0.        , 0.10001   , 0.20002   , 0.30003   , 0.40004   ,\n",
       "           0.50005001, 0.60006001, 0.70007001, 0.80008001, 0.90009001] pc / cm3>"
      ]
     },
     "execution_count": 43,
     "metadata": {},
     "output_type": "execute_result"
    }
   ],
   "source": [
    "DM_approx[0:10]"
   ]
  },
  {
   "cell_type": "code",
   "execution_count": 44,
   "metadata": {},
   "outputs": [
    {
     "data": {
      "text/plain": [
       "0.0"
      ]
     },
     "execution_count": 44,
     "metadata": {},
     "output_type": "execute_result"
    }
   ],
   "source": [
    "zeval[0]"
   ]
  },
  {
   "cell_type": "markdown",
   "metadata": {},
   "source": [
    "----"
   ]
  },
  {
   "cell_type": "markdown",
   "metadata": {},
   "source": [
    "## Development"
   ]
  }
 ],
 "metadata": {
  "kernelspec": {
   "display_name": "Python 3",
   "language": "python",
   "name": "python3"
  },
  "language_info": {
   "codemirror_mode": {
    "name": "ipython",
    "version": 3
   },
   "file_extension": ".py",
   "mimetype": "text/x-python",
   "name": "python",
   "nbconvert_exporter": "python",
   "pygments_lexer": "ipython3",
   "version": "3.7.6"
  }
 },
 "nbformat": 4,
 "nbformat_minor": 2
}
